{
  "cells": [
    {
      "cell_type": "markdown",
      "metadata": {
        "id": "view-in-github",
        "colab_type": "text"
      },
      "source": [
        "<a href=\"https://colab.research.google.com/github/AvigyanChowdhury/Financial-Fraud-Detection-in-Bitcoin-Networks-using-Ensemble-Deep-Learning/blob/main/Blockchain_Anomaly.ipynb\" target=\"_parent\"><img src=\"https://colab.research.google.com/assets/colab-badge.svg\" alt=\"Open In Colab\"/></a>"
      ]
    },
    {
      "cell_type": "code",
      "execution_count": null,
      "metadata": {
        "id": "ea5b1573"
      },
      "outputs": [],
      "source": [
        "import pandas as pd"
      ],
      "id": "ea5b1573"
    },
    {
      "cell_type": "code",
      "execution_count": null,
      "metadata": {
        "colab": {
          "base_uri": "https://localhost:8080/"
        },
        "id": "29029e94",
        "outputId": "8dc3fdd0-9b49-4974-f3ee-e19a220ee744"
      },
      "outputs": [
        {
          "output_type": "stream",
          "name": "stdout",
          "text": [
            "Requirement already satisfied: imbalanced-learn in /usr/local/lib/python3.10/dist-packages (0.10.1)\n",
            "Requirement already satisfied: numpy>=1.17.3 in /usr/local/lib/python3.10/dist-packages (from imbalanced-learn) (1.23.5)\n",
            "Requirement already satisfied: scipy>=1.3.2 in /usr/local/lib/python3.10/dist-packages (from imbalanced-learn) (1.10.1)\n",
            "Requirement already satisfied: scikit-learn>=1.0.2 in /usr/local/lib/python3.10/dist-packages (from imbalanced-learn) (1.2.2)\n",
            "Requirement already satisfied: joblib>=1.1.1 in /usr/local/lib/python3.10/dist-packages (from imbalanced-learn) (1.3.2)\n",
            "Requirement already satisfied: threadpoolctl>=2.0.0 in /usr/local/lib/python3.10/dist-packages (from imbalanced-learn) (3.2.0)\n"
          ]
        }
      ],
      "source": [
        "!pip install imbalanced-learn\n"
      ],
      "id": "29029e94"
    },
    {
      "cell_type": "code",
      "source": [
        "from google.colab import drive\n",
        "\n",
        "# Mount Google Drive\n",
        "drive.mount('/content/drive')\n",
        "\n",
        "# Access files in your Google Drive\n",
        "data_path = '/content/drive/MyDrive/data/final_dataset.csv'"
      ],
      "metadata": {
        "id": "s5lnpM-cHy02"
      },
      "id": "s5lnpM-cHy02",
      "execution_count": null,
      "outputs": []
    },
    {
      "cell_type": "code",
      "execution_count": null,
      "metadata": {
        "colab": {
          "base_uri": "https://localhost:8080/",
          "height": 423
        },
        "id": "e5f6410b",
        "outputId": "84071c76-54d9-4ac9-b86b-d13da44286f3"
      },
      "outputs": [
        {
          "output_type": "execute_result",
          "data": {
            "text/plain": [
              "          indegree  outdegree    in_btc   out_btc  total_btc  mean_in_btc  \\\n",
              "0                1          1  7.919500  7.914000  15.833500     7.919500   \n",
              "1                2          2  0.089590  0.089090   0.178680     0.044795   \n",
              "2                1          2  0.010000  0.009000   0.019000     0.010000   \n",
              "3                3          2  0.015433  0.014933   0.030367     0.005144   \n",
              "4                1          2  0.041253  0.040753   0.082007     0.041253   \n",
              "...            ...        ...       ...       ...        ...          ...   \n",
              "30348102         1          2  1.456385  1.455885   2.912270     1.456385   \n",
              "30348103         1          2  9.289165  9.288165  18.577331     9.289165   \n",
              "30348104         4          2  0.371120  0.369920   0.741039     0.092780   \n",
              "30348105         2          2  0.863227  0.862227   1.725454     0.431614   \n",
              "30348106         4          2  0.040965  0.040465   0.081431     0.010241   \n",
              "\n",
              "          mean_out_btc  out_and_tx_malicious  \n",
              "0             7.914000                     0  \n",
              "1             0.044545                     0  \n",
              "2             0.004500                     0  \n",
              "3             0.007467                     0  \n",
              "4             0.020377                     0  \n",
              "...                ...                   ...  \n",
              "30348102      0.727943                     0  \n",
              "30348103      4.644083                     0  \n",
              "30348104      0.184960                     0  \n",
              "30348105      0.431114                     0  \n",
              "30348106      0.020233                     0  \n",
              "\n",
              "[30348107 rows x 8 columns]"
            ],
            "text/html": [
              "\n",
              "  <div id=\"df-7f13d334-6a4f-4707-8f0a-2fcd8dd56d4c\" class=\"colab-df-container\">\n",
              "    <div>\n",
              "<style scoped>\n",
              "    .dataframe tbody tr th:only-of-type {\n",
              "        vertical-align: middle;\n",
              "    }\n",
              "\n",
              "    .dataframe tbody tr th {\n",
              "        vertical-align: top;\n",
              "    }\n",
              "\n",
              "    .dataframe thead th {\n",
              "        text-align: right;\n",
              "    }\n",
              "</style>\n",
              "<table border=\"1\" class=\"dataframe\">\n",
              "  <thead>\n",
              "    <tr style=\"text-align: right;\">\n",
              "      <th></th>\n",
              "      <th>indegree</th>\n",
              "      <th>outdegree</th>\n",
              "      <th>in_btc</th>\n",
              "      <th>out_btc</th>\n",
              "      <th>total_btc</th>\n",
              "      <th>mean_in_btc</th>\n",
              "      <th>mean_out_btc</th>\n",
              "      <th>out_and_tx_malicious</th>\n",
              "    </tr>\n",
              "  </thead>\n",
              "  <tbody>\n",
              "    <tr>\n",
              "      <th>0</th>\n",
              "      <td>1</td>\n",
              "      <td>1</td>\n",
              "      <td>7.919500</td>\n",
              "      <td>7.914000</td>\n",
              "      <td>15.833500</td>\n",
              "      <td>7.919500</td>\n",
              "      <td>7.914000</td>\n",
              "      <td>0</td>\n",
              "    </tr>\n",
              "    <tr>\n",
              "      <th>1</th>\n",
              "      <td>2</td>\n",
              "      <td>2</td>\n",
              "      <td>0.089590</td>\n",
              "      <td>0.089090</td>\n",
              "      <td>0.178680</td>\n",
              "      <td>0.044795</td>\n",
              "      <td>0.044545</td>\n",
              "      <td>0</td>\n",
              "    </tr>\n",
              "    <tr>\n",
              "      <th>2</th>\n",
              "      <td>1</td>\n",
              "      <td>2</td>\n",
              "      <td>0.010000</td>\n",
              "      <td>0.009000</td>\n",
              "      <td>0.019000</td>\n",
              "      <td>0.010000</td>\n",
              "      <td>0.004500</td>\n",
              "      <td>0</td>\n",
              "    </tr>\n",
              "    <tr>\n",
              "      <th>3</th>\n",
              "      <td>3</td>\n",
              "      <td>2</td>\n",
              "      <td>0.015433</td>\n",
              "      <td>0.014933</td>\n",
              "      <td>0.030367</td>\n",
              "      <td>0.005144</td>\n",
              "      <td>0.007467</td>\n",
              "      <td>0</td>\n",
              "    </tr>\n",
              "    <tr>\n",
              "      <th>4</th>\n",
              "      <td>1</td>\n",
              "      <td>2</td>\n",
              "      <td>0.041253</td>\n",
              "      <td>0.040753</td>\n",
              "      <td>0.082007</td>\n",
              "      <td>0.041253</td>\n",
              "      <td>0.020377</td>\n",
              "      <td>0</td>\n",
              "    </tr>\n",
              "    <tr>\n",
              "      <th>...</th>\n",
              "      <td>...</td>\n",
              "      <td>...</td>\n",
              "      <td>...</td>\n",
              "      <td>...</td>\n",
              "      <td>...</td>\n",
              "      <td>...</td>\n",
              "      <td>...</td>\n",
              "      <td>...</td>\n",
              "    </tr>\n",
              "    <tr>\n",
              "      <th>30348102</th>\n",
              "      <td>1</td>\n",
              "      <td>2</td>\n",
              "      <td>1.456385</td>\n",
              "      <td>1.455885</td>\n",
              "      <td>2.912270</td>\n",
              "      <td>1.456385</td>\n",
              "      <td>0.727943</td>\n",
              "      <td>0</td>\n",
              "    </tr>\n",
              "    <tr>\n",
              "      <th>30348103</th>\n",
              "      <td>1</td>\n",
              "      <td>2</td>\n",
              "      <td>9.289165</td>\n",
              "      <td>9.288165</td>\n",
              "      <td>18.577331</td>\n",
              "      <td>9.289165</td>\n",
              "      <td>4.644083</td>\n",
              "      <td>0</td>\n",
              "    </tr>\n",
              "    <tr>\n",
              "      <th>30348104</th>\n",
              "      <td>4</td>\n",
              "      <td>2</td>\n",
              "      <td>0.371120</td>\n",
              "      <td>0.369920</td>\n",
              "      <td>0.741039</td>\n",
              "      <td>0.092780</td>\n",
              "      <td>0.184960</td>\n",
              "      <td>0</td>\n",
              "    </tr>\n",
              "    <tr>\n",
              "      <th>30348105</th>\n",
              "      <td>2</td>\n",
              "      <td>2</td>\n",
              "      <td>0.863227</td>\n",
              "      <td>0.862227</td>\n",
              "      <td>1.725454</td>\n",
              "      <td>0.431614</td>\n",
              "      <td>0.431114</td>\n",
              "      <td>0</td>\n",
              "    </tr>\n",
              "    <tr>\n",
              "      <th>30348106</th>\n",
              "      <td>4</td>\n",
              "      <td>2</td>\n",
              "      <td>0.040965</td>\n",
              "      <td>0.040465</td>\n",
              "      <td>0.081431</td>\n",
              "      <td>0.010241</td>\n",
              "      <td>0.020233</td>\n",
              "      <td>0</td>\n",
              "    </tr>\n",
              "  </tbody>\n",
              "</table>\n",
              "<p>30348107 rows × 8 columns</p>\n",
              "</div>\n",
              "    <div class=\"colab-df-buttons\">\n",
              "\n",
              "  <div class=\"colab-df-container\">\n",
              "    <button class=\"colab-df-convert\" onclick=\"convertToInteractive('df-7f13d334-6a4f-4707-8f0a-2fcd8dd56d4c')\"\n",
              "            title=\"Convert this dataframe to an interactive table.\"\n",
              "            style=\"display:none;\">\n",
              "\n",
              "  <svg xmlns=\"http://www.w3.org/2000/svg\" height=\"24px\" viewBox=\"0 -960 960 960\">\n",
              "    <path d=\"M120-120v-720h720v720H120Zm60-500h600v-160H180v160Zm220 220h160v-160H400v160Zm0 220h160v-160H400v160ZM180-400h160v-160H180v160Zm440 0h160v-160H620v160ZM180-180h160v-160H180v160Zm440 0h160v-160H620v160Z\"/>\n",
              "  </svg>\n",
              "    </button>\n",
              "\n",
              "  <style>\n",
              "    .colab-df-container {\n",
              "      display:flex;\n",
              "      gap: 12px;\n",
              "    }\n",
              "\n",
              "    .colab-df-convert {\n",
              "      background-color: #E8F0FE;\n",
              "      border: none;\n",
              "      border-radius: 50%;\n",
              "      cursor: pointer;\n",
              "      display: none;\n",
              "      fill: #1967D2;\n",
              "      height: 32px;\n",
              "      padding: 0 0 0 0;\n",
              "      width: 32px;\n",
              "    }\n",
              "\n",
              "    .colab-df-convert:hover {\n",
              "      background-color: #E2EBFA;\n",
              "      box-shadow: 0px 1px 2px rgba(60, 64, 67, 0.3), 0px 1px 3px 1px rgba(60, 64, 67, 0.15);\n",
              "      fill: #174EA6;\n",
              "    }\n",
              "\n",
              "    .colab-df-buttons div {\n",
              "      margin-bottom: 4px;\n",
              "    }\n",
              "\n",
              "    [theme=dark] .colab-df-convert {\n",
              "      background-color: #3B4455;\n",
              "      fill: #D2E3FC;\n",
              "    }\n",
              "\n",
              "    [theme=dark] .colab-df-convert:hover {\n",
              "      background-color: #434B5C;\n",
              "      box-shadow: 0px 1px 3px 1px rgba(0, 0, 0, 0.15);\n",
              "      filter: drop-shadow(0px 1px 2px rgba(0, 0, 0, 0.3));\n",
              "      fill: #FFFFFF;\n",
              "    }\n",
              "  </style>\n",
              "\n",
              "    <script>\n",
              "      const buttonEl =\n",
              "        document.querySelector('#df-7f13d334-6a4f-4707-8f0a-2fcd8dd56d4c button.colab-df-convert');\n",
              "      buttonEl.style.display =\n",
              "        google.colab.kernel.accessAllowed ? 'block' : 'none';\n",
              "\n",
              "      async function convertToInteractive(key) {\n",
              "        const element = document.querySelector('#df-7f13d334-6a4f-4707-8f0a-2fcd8dd56d4c');\n",
              "        const dataTable =\n",
              "          await google.colab.kernel.invokeFunction('convertToInteractive',\n",
              "                                                    [key], {});\n",
              "        if (!dataTable) return;\n",
              "\n",
              "        const docLinkHtml = 'Like what you see? Visit the ' +\n",
              "          '<a target=\"_blank\" href=https://colab.research.google.com/notebooks/data_table.ipynb>data table notebook</a>'\n",
              "          + ' to learn more about interactive tables.';\n",
              "        element.innerHTML = '';\n",
              "        dataTable['output_type'] = 'display_data';\n",
              "        await google.colab.output.renderOutput(dataTable, element);\n",
              "        const docLink = document.createElement('div');\n",
              "        docLink.innerHTML = docLinkHtml;\n",
              "        element.appendChild(docLink);\n",
              "      }\n",
              "    </script>\n",
              "  </div>\n",
              "\n",
              "\n",
              "<div id=\"df-84203af9-4614-471e-9135-38c9236268fb\">\n",
              "  <button class=\"colab-df-quickchart\" onclick=\"quickchart('df-84203af9-4614-471e-9135-38c9236268fb')\"\n",
              "            title=\"Suggest charts.\"\n",
              "            style=\"display:none;\">\n",
              "\n",
              "<svg xmlns=\"http://www.w3.org/2000/svg\" height=\"24px\"viewBox=\"0 0 24 24\"\n",
              "     width=\"24px\">\n",
              "    <g>\n",
              "        <path d=\"M19 3H5c-1.1 0-2 .9-2 2v14c0 1.1.9 2 2 2h14c1.1 0 2-.9 2-2V5c0-1.1-.9-2-2-2zM9 17H7v-7h2v7zm4 0h-2V7h2v10zm4 0h-2v-4h2v4z\"/>\n",
              "    </g>\n",
              "</svg>\n",
              "  </button>\n",
              "\n",
              "<style>\n",
              "  .colab-df-quickchart {\n",
              "    background-color: #E8F0FE;\n",
              "    border: none;\n",
              "    border-radius: 50%;\n",
              "    cursor: pointer;\n",
              "    display: none;\n",
              "    fill: #1967D2;\n",
              "    height: 32px;\n",
              "    padding: 0 0 0 0;\n",
              "    width: 32px;\n",
              "  }\n",
              "\n",
              "  .colab-df-quickchart:hover {\n",
              "    background-color: #E2EBFA;\n",
              "    box-shadow: 0px 1px 2px rgba(60, 64, 67, 0.3), 0px 1px 3px 1px rgba(60, 64, 67, 0.15);\n",
              "    fill: #174EA6;\n",
              "  }\n",
              "\n",
              "  [theme=dark] .colab-df-quickchart {\n",
              "    background-color: #3B4455;\n",
              "    fill: #D2E3FC;\n",
              "  }\n",
              "\n",
              "  [theme=dark] .colab-df-quickchart:hover {\n",
              "    background-color: #434B5C;\n",
              "    box-shadow: 0px 1px 3px 1px rgba(0, 0, 0, 0.15);\n",
              "    filter: drop-shadow(0px 1px 2px rgba(0, 0, 0, 0.3));\n",
              "    fill: #FFFFFF;\n",
              "  }\n",
              "</style>\n",
              "\n",
              "  <script>\n",
              "    async function quickchart(key) {\n",
              "      const charts = await google.colab.kernel.invokeFunction(\n",
              "          'suggestCharts', [key], {});\n",
              "    }\n",
              "    (() => {\n",
              "      let quickchartButtonEl =\n",
              "        document.querySelector('#df-84203af9-4614-471e-9135-38c9236268fb button');\n",
              "      quickchartButtonEl.style.display =\n",
              "        google.colab.kernel.accessAllowed ? 'block' : 'none';\n",
              "    })();\n",
              "  </script>\n",
              "</div>\n",
              "    </div>\n",
              "  </div>\n"
            ]
          },
          "metadata": {},
          "execution_count": 4
        }
      ],
      "source": [
        "\n",
        "df = pd.read_csv(data_path)\n",
        "df"
      ],
      "id": "e5f6410b"
    },
    {
      "cell_type": "code",
      "source": [
        "count_1_labels = df['out_and_tx_malicious'].sum()\n",
        "print(\"Number of 1 labels:\", count_1_labels)"
      ],
      "metadata": {
        "colab": {
          "base_uri": "https://localhost:8080/"
        },
        "id": "167XdcHoHuO_",
        "outputId": "3129dbbe-fc2c-4a68-9ead-b9495537070d"
      },
      "id": "167XdcHoHuO_",
      "execution_count": null,
      "outputs": [
        {
          "output_type": "stream",
          "name": "stdout",
          "text": [
            "Number of 1 labels: 100081\n"
          ]
        }
      ]
    },
    {
      "cell_type": "code",
      "source": [
        "count_0_labels = (df['out_and_tx_malicious'] == 0).sum()\n",
        "print(\"Number of 0 labels:\", count_0_labels)"
      ],
      "metadata": {
        "colab": {
          "base_uri": "https://localhost:8080/"
        },
        "id": "pRM2lTQHHwwg",
        "outputId": "1335a242-092e-4236-c2ce-7c426729e200"
      },
      "id": "pRM2lTQHHwwg",
      "execution_count": null,
      "outputs": [
        {
          "output_type": "stream",
          "name": "stdout",
          "text": [
            "Number of 0 labels: 30248026\n"
          ]
        }
      ]
    },
    {
      "cell_type": "code",
      "source": [
        "\n",
        "\n",
        "# Assuming your original dataset is named 'df'\n",
        "# Create separate dataframes for each class\n",
        "df_class_0 = df[df['out_and_tx_malicious'] == 0]\n",
        "df_class_1 = df[df['out_and_tx_malicious'] == 1]\n",
        "\n",
        "# Randomly sample 8000 rows from each class\n",
        "sample_size = 100081\n",
        "df_sampled_class_0 = df_class_0.sample(n=sample_size, random_state=42)\n",
        "df_sampled_class_1 = df_class_1.sample(n=sample_size, random_state=42)\n",
        "\n",
        "# Concatenate the sampled dataframes to create the new balanced dataset\n",
        "df_balanced = pd.concat([df_sampled_class_0, df_sampled_class_1], ignore_index=True)\n",
        "\n",
        "# Shuffle the new dataset\n",
        "df_balanced = df_balanced.sample(frac=1, random_state=42).reset_index(drop=True)\n",
        "\n",
        "# Now df_balanced contains 5000 rows of each class, resulting in a balanced dataset\n"
      ],
      "metadata": {
        "id": "mEbSGnVyF8d1"
      },
      "id": "mEbSGnVyF8d1",
      "execution_count": null,
      "outputs": []
    },
    {
      "cell_type": "code",
      "source": [
        "df_balanced"
      ],
      "metadata": {
        "colab": {
          "base_uri": "https://localhost:8080/",
          "height": 423
        },
        "id": "R0MGu-gJGA6X",
        "outputId": "8bf990e8-7009-48b3-a221-8d5f3c59a58b"
      },
      "id": "R0MGu-gJGA6X",
      "execution_count": null,
      "outputs": [
        {
          "output_type": "execute_result",
          "data": {
            "text/plain": [
              "        indegree  outdegree      in_btc    out_btc   total_btc  mean_in_btc  \\\n",
              "0              0          1    0.000000  50.000000   50.000000     0.000000   \n",
              "1              1          2   28.020000  28.020000   56.040000    28.020000   \n",
              "2              1          1   21.926000  21.916000   43.842000    21.926000   \n",
              "3              0          1    0.000000  50.000000   50.000000     0.000000   \n",
              "4              0          0  178.306508  27.711686  206.018195   178.306508   \n",
              "...          ...        ...         ...        ...         ...          ...   \n",
              "200157         0          1    0.000000  50.000000   50.000000     0.000000   \n",
              "200158         0          0  299.564377  12.554453  312.118829   299.564377   \n",
              "200159         0          1    0.000000  50.000000   50.000000     0.000000   \n",
              "200160         1          0  246.366265  21.947676  268.313941   246.366265   \n",
              "200161         0          1    0.000000  50.000000   50.000000     0.000000   \n",
              "\n",
              "        mean_out_btc  out_and_tx_malicious  \n",
              "0          50.000000                     1  \n",
              "1          14.010000                     0  \n",
              "2          21.916000                     0  \n",
              "3          50.000000                     1  \n",
              "4          27.711686                     1  \n",
              "...              ...                   ...  \n",
              "200157     50.000000                     1  \n",
              "200158     12.554453                     1  \n",
              "200159     50.000000                     1  \n",
              "200160     10.973838                     1  \n",
              "200161     50.000000                     1  \n",
              "\n",
              "[200162 rows x 8 columns]"
            ],
            "text/html": [
              "\n",
              "  <div id=\"df-0f83731d-d5bf-4153-9b7f-6da02157c43b\" class=\"colab-df-container\">\n",
              "    <div>\n",
              "<style scoped>\n",
              "    .dataframe tbody tr th:only-of-type {\n",
              "        vertical-align: middle;\n",
              "    }\n",
              "\n",
              "    .dataframe tbody tr th {\n",
              "        vertical-align: top;\n",
              "    }\n",
              "\n",
              "    .dataframe thead th {\n",
              "        text-align: right;\n",
              "    }\n",
              "</style>\n",
              "<table border=\"1\" class=\"dataframe\">\n",
              "  <thead>\n",
              "    <tr style=\"text-align: right;\">\n",
              "      <th></th>\n",
              "      <th>indegree</th>\n",
              "      <th>outdegree</th>\n",
              "      <th>in_btc</th>\n",
              "      <th>out_btc</th>\n",
              "      <th>total_btc</th>\n",
              "      <th>mean_in_btc</th>\n",
              "      <th>mean_out_btc</th>\n",
              "      <th>out_and_tx_malicious</th>\n",
              "    </tr>\n",
              "  </thead>\n",
              "  <tbody>\n",
              "    <tr>\n",
              "      <th>0</th>\n",
              "      <td>0</td>\n",
              "      <td>1</td>\n",
              "      <td>0.000000</td>\n",
              "      <td>50.000000</td>\n",
              "      <td>50.000000</td>\n",
              "      <td>0.000000</td>\n",
              "      <td>50.000000</td>\n",
              "      <td>1</td>\n",
              "    </tr>\n",
              "    <tr>\n",
              "      <th>1</th>\n",
              "      <td>1</td>\n",
              "      <td>2</td>\n",
              "      <td>28.020000</td>\n",
              "      <td>28.020000</td>\n",
              "      <td>56.040000</td>\n",
              "      <td>28.020000</td>\n",
              "      <td>14.010000</td>\n",
              "      <td>0</td>\n",
              "    </tr>\n",
              "    <tr>\n",
              "      <th>2</th>\n",
              "      <td>1</td>\n",
              "      <td>1</td>\n",
              "      <td>21.926000</td>\n",
              "      <td>21.916000</td>\n",
              "      <td>43.842000</td>\n",
              "      <td>21.926000</td>\n",
              "      <td>21.916000</td>\n",
              "      <td>0</td>\n",
              "    </tr>\n",
              "    <tr>\n",
              "      <th>3</th>\n",
              "      <td>0</td>\n",
              "      <td>1</td>\n",
              "      <td>0.000000</td>\n",
              "      <td>50.000000</td>\n",
              "      <td>50.000000</td>\n",
              "      <td>0.000000</td>\n",
              "      <td>50.000000</td>\n",
              "      <td>1</td>\n",
              "    </tr>\n",
              "    <tr>\n",
              "      <th>4</th>\n",
              "      <td>0</td>\n",
              "      <td>0</td>\n",
              "      <td>178.306508</td>\n",
              "      <td>27.711686</td>\n",
              "      <td>206.018195</td>\n",
              "      <td>178.306508</td>\n",
              "      <td>27.711686</td>\n",
              "      <td>1</td>\n",
              "    </tr>\n",
              "    <tr>\n",
              "      <th>...</th>\n",
              "      <td>...</td>\n",
              "      <td>...</td>\n",
              "      <td>...</td>\n",
              "      <td>...</td>\n",
              "      <td>...</td>\n",
              "      <td>...</td>\n",
              "      <td>...</td>\n",
              "      <td>...</td>\n",
              "    </tr>\n",
              "    <tr>\n",
              "      <th>200157</th>\n",
              "      <td>0</td>\n",
              "      <td>1</td>\n",
              "      <td>0.000000</td>\n",
              "      <td>50.000000</td>\n",
              "      <td>50.000000</td>\n",
              "      <td>0.000000</td>\n",
              "      <td>50.000000</td>\n",
              "      <td>1</td>\n",
              "    </tr>\n",
              "    <tr>\n",
              "      <th>200158</th>\n",
              "      <td>0</td>\n",
              "      <td>0</td>\n",
              "      <td>299.564377</td>\n",
              "      <td>12.554453</td>\n",
              "      <td>312.118829</td>\n",
              "      <td>299.564377</td>\n",
              "      <td>12.554453</td>\n",
              "      <td>1</td>\n",
              "    </tr>\n",
              "    <tr>\n",
              "      <th>200159</th>\n",
              "      <td>0</td>\n",
              "      <td>1</td>\n",
              "      <td>0.000000</td>\n",
              "      <td>50.000000</td>\n",
              "      <td>50.000000</td>\n",
              "      <td>0.000000</td>\n",
              "      <td>50.000000</td>\n",
              "      <td>1</td>\n",
              "    </tr>\n",
              "    <tr>\n",
              "      <th>200160</th>\n",
              "      <td>1</td>\n",
              "      <td>0</td>\n",
              "      <td>246.366265</td>\n",
              "      <td>21.947676</td>\n",
              "      <td>268.313941</td>\n",
              "      <td>246.366265</td>\n",
              "      <td>10.973838</td>\n",
              "      <td>1</td>\n",
              "    </tr>\n",
              "    <tr>\n",
              "      <th>200161</th>\n",
              "      <td>0</td>\n",
              "      <td>1</td>\n",
              "      <td>0.000000</td>\n",
              "      <td>50.000000</td>\n",
              "      <td>50.000000</td>\n",
              "      <td>0.000000</td>\n",
              "      <td>50.000000</td>\n",
              "      <td>1</td>\n",
              "    </tr>\n",
              "  </tbody>\n",
              "</table>\n",
              "<p>200162 rows × 8 columns</p>\n",
              "</div>\n",
              "    <div class=\"colab-df-buttons\">\n",
              "\n",
              "  <div class=\"colab-df-container\">\n",
              "    <button class=\"colab-df-convert\" onclick=\"convertToInteractive('df-0f83731d-d5bf-4153-9b7f-6da02157c43b')\"\n",
              "            title=\"Convert this dataframe to an interactive table.\"\n",
              "            style=\"display:none;\">\n",
              "\n",
              "  <svg xmlns=\"http://www.w3.org/2000/svg\" height=\"24px\" viewBox=\"0 -960 960 960\">\n",
              "    <path d=\"M120-120v-720h720v720H120Zm60-500h600v-160H180v160Zm220 220h160v-160H400v160Zm0 220h160v-160H400v160ZM180-400h160v-160H180v160Zm440 0h160v-160H620v160ZM180-180h160v-160H180v160Zm440 0h160v-160H620v160Z\"/>\n",
              "  </svg>\n",
              "    </button>\n",
              "\n",
              "  <style>\n",
              "    .colab-df-container {\n",
              "      display:flex;\n",
              "      gap: 12px;\n",
              "    }\n",
              "\n",
              "    .colab-df-convert {\n",
              "      background-color: #E8F0FE;\n",
              "      border: none;\n",
              "      border-radius: 50%;\n",
              "      cursor: pointer;\n",
              "      display: none;\n",
              "      fill: #1967D2;\n",
              "      height: 32px;\n",
              "      padding: 0 0 0 0;\n",
              "      width: 32px;\n",
              "    }\n",
              "\n",
              "    .colab-df-convert:hover {\n",
              "      background-color: #E2EBFA;\n",
              "      box-shadow: 0px 1px 2px rgba(60, 64, 67, 0.3), 0px 1px 3px 1px rgba(60, 64, 67, 0.15);\n",
              "      fill: #174EA6;\n",
              "    }\n",
              "\n",
              "    .colab-df-buttons div {\n",
              "      margin-bottom: 4px;\n",
              "    }\n",
              "\n",
              "    [theme=dark] .colab-df-convert {\n",
              "      background-color: #3B4455;\n",
              "      fill: #D2E3FC;\n",
              "    }\n",
              "\n",
              "    [theme=dark] .colab-df-convert:hover {\n",
              "      background-color: #434B5C;\n",
              "      box-shadow: 0px 1px 3px 1px rgba(0, 0, 0, 0.15);\n",
              "      filter: drop-shadow(0px 1px 2px rgba(0, 0, 0, 0.3));\n",
              "      fill: #FFFFFF;\n",
              "    }\n",
              "  </style>\n",
              "\n",
              "    <script>\n",
              "      const buttonEl =\n",
              "        document.querySelector('#df-0f83731d-d5bf-4153-9b7f-6da02157c43b button.colab-df-convert');\n",
              "      buttonEl.style.display =\n",
              "        google.colab.kernel.accessAllowed ? 'block' : 'none';\n",
              "\n",
              "      async function convertToInteractive(key) {\n",
              "        const element = document.querySelector('#df-0f83731d-d5bf-4153-9b7f-6da02157c43b');\n",
              "        const dataTable =\n",
              "          await google.colab.kernel.invokeFunction('convertToInteractive',\n",
              "                                                    [key], {});\n",
              "        if (!dataTable) return;\n",
              "\n",
              "        const docLinkHtml = 'Like what you see? Visit the ' +\n",
              "          '<a target=\"_blank\" href=https://colab.research.google.com/notebooks/data_table.ipynb>data table notebook</a>'\n",
              "          + ' to learn more about interactive tables.';\n",
              "        element.innerHTML = '';\n",
              "        dataTable['output_type'] = 'display_data';\n",
              "        await google.colab.output.renderOutput(dataTable, element);\n",
              "        const docLink = document.createElement('div');\n",
              "        docLink.innerHTML = docLinkHtml;\n",
              "        element.appendChild(docLink);\n",
              "      }\n",
              "    </script>\n",
              "  </div>\n",
              "\n",
              "\n",
              "<div id=\"df-fb808a5d-9c37-4340-a3a1-23f27b66669a\">\n",
              "  <button class=\"colab-df-quickchart\" onclick=\"quickchart('df-fb808a5d-9c37-4340-a3a1-23f27b66669a')\"\n",
              "            title=\"Suggest charts.\"\n",
              "            style=\"display:none;\">\n",
              "\n",
              "<svg xmlns=\"http://www.w3.org/2000/svg\" height=\"24px\"viewBox=\"0 0 24 24\"\n",
              "     width=\"24px\">\n",
              "    <g>\n",
              "        <path d=\"M19 3H5c-1.1 0-2 .9-2 2v14c0 1.1.9 2 2 2h14c1.1 0 2-.9 2-2V5c0-1.1-.9-2-2-2zM9 17H7v-7h2v7zm4 0h-2V7h2v10zm4 0h-2v-4h2v4z\"/>\n",
              "    </g>\n",
              "</svg>\n",
              "  </button>\n",
              "\n",
              "<style>\n",
              "  .colab-df-quickchart {\n",
              "    background-color: #E8F0FE;\n",
              "    border: none;\n",
              "    border-radius: 50%;\n",
              "    cursor: pointer;\n",
              "    display: none;\n",
              "    fill: #1967D2;\n",
              "    height: 32px;\n",
              "    padding: 0 0 0 0;\n",
              "    width: 32px;\n",
              "  }\n",
              "\n",
              "  .colab-df-quickchart:hover {\n",
              "    background-color: #E2EBFA;\n",
              "    box-shadow: 0px 1px 2px rgba(60, 64, 67, 0.3), 0px 1px 3px 1px rgba(60, 64, 67, 0.15);\n",
              "    fill: #174EA6;\n",
              "  }\n",
              "\n",
              "  [theme=dark] .colab-df-quickchart {\n",
              "    background-color: #3B4455;\n",
              "    fill: #D2E3FC;\n",
              "  }\n",
              "\n",
              "  [theme=dark] .colab-df-quickchart:hover {\n",
              "    background-color: #434B5C;\n",
              "    box-shadow: 0px 1px 3px 1px rgba(0, 0, 0, 0.15);\n",
              "    filter: drop-shadow(0px 1px 2px rgba(0, 0, 0, 0.3));\n",
              "    fill: #FFFFFF;\n",
              "  }\n",
              "</style>\n",
              "\n",
              "  <script>\n",
              "    async function quickchart(key) {\n",
              "      const charts = await google.colab.kernel.invokeFunction(\n",
              "          'suggestCharts', [key], {});\n",
              "    }\n",
              "    (() => {\n",
              "      let quickchartButtonEl =\n",
              "        document.querySelector('#df-fb808a5d-9c37-4340-a3a1-23f27b66669a button');\n",
              "      quickchartButtonEl.style.display =\n",
              "        google.colab.kernel.accessAllowed ? 'block' : 'none';\n",
              "    })();\n",
              "  </script>\n",
              "</div>\n",
              "    </div>\n",
              "  </div>\n"
            ]
          },
          "metadata": {},
          "execution_count": 8
        }
      ]
    },
    {
      "cell_type": "code",
      "execution_count": null,
      "metadata": {
        "colab": {
          "base_uri": "https://localhost:8080/"
        },
        "id": "JGXA5YG9VzrZ",
        "outputId": "7ecb4162-9b7a-48ac-fd08-81a0e30e430e"
      },
      "outputs": [
        {
          "output_type": "stream",
          "name": "stdout",
          "text": [
            "<class 'pandas.core.frame.DataFrame'>\n",
            "RangeIndex: 200162 entries, 0 to 200161\n",
            "Data columns (total 8 columns):\n",
            " #   Column                Non-Null Count   Dtype  \n",
            "---  ------                --------------   -----  \n",
            " 0   indegree              200162 non-null  int64  \n",
            " 1   outdegree             200162 non-null  int64  \n",
            " 2   in_btc                200162 non-null  float64\n",
            " 3   out_btc               200162 non-null  float64\n",
            " 4   total_btc             200162 non-null  float64\n",
            " 5   mean_in_btc           200162 non-null  float64\n",
            " 6   mean_out_btc          200162 non-null  float64\n",
            " 7   out_and_tx_malicious  200162 non-null  int64  \n",
            "dtypes: float64(5), int64(3)\n",
            "memory usage: 12.2 MB\n"
          ]
        }
      ],
      "source": [
        "df_balanced.info()"
      ],
      "id": "JGXA5YG9VzrZ"
    },
    {
      "cell_type": "code",
      "execution_count": null,
      "metadata": {
        "colab": {
          "base_uri": "https://localhost:8080/",
          "height": 423
        },
        "id": "60e6a7b1",
        "outputId": "e37bb748-4866-471e-f098-a8e4f882eac2"
      },
      "outputs": [
        {
          "output_type": "execute_result",
          "data": {
            "text/plain": [
              "        indegree  outdegree      in_btc    out_btc   total_btc  mean_in_btc  \\\n",
              "0              0          1    0.000000  50.000000   50.000000     0.000000   \n",
              "1              1          2   28.020000  28.020000   56.040000    28.020000   \n",
              "2              1          1   21.926000  21.916000   43.842000    21.926000   \n",
              "3              0          1    0.000000  50.000000   50.000000     0.000000   \n",
              "4              0          0  178.306508  27.711686  206.018195   178.306508   \n",
              "...          ...        ...         ...        ...         ...          ...   \n",
              "200157         0          1    0.000000  50.000000   50.000000     0.000000   \n",
              "200158         0          0  299.564377  12.554453  312.118829   299.564377   \n",
              "200159         0          1    0.000000  50.000000   50.000000     0.000000   \n",
              "200160         1          0  246.366265  21.947676  268.313941   246.366265   \n",
              "200161         0          1    0.000000  50.000000   50.000000     0.000000   \n",
              "\n",
              "        mean_out_btc  out_and_tx_malicious  \n",
              "0          50.000000                     1  \n",
              "1          14.010000                     0  \n",
              "2          21.916000                     0  \n",
              "3          50.000000                     1  \n",
              "4          27.711686                     1  \n",
              "...              ...                   ...  \n",
              "200157     50.000000                     1  \n",
              "200158     12.554453                     1  \n",
              "200159     50.000000                     1  \n",
              "200160     10.973838                     1  \n",
              "200161     50.000000                     1  \n",
              "\n",
              "[200162 rows x 8 columns]"
            ],
            "text/html": [
              "\n",
              "  <div id=\"df-6dd0d47f-ef99-42f0-bfbd-b9e6c2d6372b\" class=\"colab-df-container\">\n",
              "    <div>\n",
              "<style scoped>\n",
              "    .dataframe tbody tr th:only-of-type {\n",
              "        vertical-align: middle;\n",
              "    }\n",
              "\n",
              "    .dataframe tbody tr th {\n",
              "        vertical-align: top;\n",
              "    }\n",
              "\n",
              "    .dataframe thead th {\n",
              "        text-align: right;\n",
              "    }\n",
              "</style>\n",
              "<table border=\"1\" class=\"dataframe\">\n",
              "  <thead>\n",
              "    <tr style=\"text-align: right;\">\n",
              "      <th></th>\n",
              "      <th>indegree</th>\n",
              "      <th>outdegree</th>\n",
              "      <th>in_btc</th>\n",
              "      <th>out_btc</th>\n",
              "      <th>total_btc</th>\n",
              "      <th>mean_in_btc</th>\n",
              "      <th>mean_out_btc</th>\n",
              "      <th>out_and_tx_malicious</th>\n",
              "    </tr>\n",
              "  </thead>\n",
              "  <tbody>\n",
              "    <tr>\n",
              "      <th>0</th>\n",
              "      <td>0</td>\n",
              "      <td>1</td>\n",
              "      <td>0.000000</td>\n",
              "      <td>50.000000</td>\n",
              "      <td>50.000000</td>\n",
              "      <td>0.000000</td>\n",
              "      <td>50.000000</td>\n",
              "      <td>1</td>\n",
              "    </tr>\n",
              "    <tr>\n",
              "      <th>1</th>\n",
              "      <td>1</td>\n",
              "      <td>2</td>\n",
              "      <td>28.020000</td>\n",
              "      <td>28.020000</td>\n",
              "      <td>56.040000</td>\n",
              "      <td>28.020000</td>\n",
              "      <td>14.010000</td>\n",
              "      <td>0</td>\n",
              "    </tr>\n",
              "    <tr>\n",
              "      <th>2</th>\n",
              "      <td>1</td>\n",
              "      <td>1</td>\n",
              "      <td>21.926000</td>\n",
              "      <td>21.916000</td>\n",
              "      <td>43.842000</td>\n",
              "      <td>21.926000</td>\n",
              "      <td>21.916000</td>\n",
              "      <td>0</td>\n",
              "    </tr>\n",
              "    <tr>\n",
              "      <th>3</th>\n",
              "      <td>0</td>\n",
              "      <td>1</td>\n",
              "      <td>0.000000</td>\n",
              "      <td>50.000000</td>\n",
              "      <td>50.000000</td>\n",
              "      <td>0.000000</td>\n",
              "      <td>50.000000</td>\n",
              "      <td>1</td>\n",
              "    </tr>\n",
              "    <tr>\n",
              "      <th>4</th>\n",
              "      <td>0</td>\n",
              "      <td>0</td>\n",
              "      <td>178.306508</td>\n",
              "      <td>27.711686</td>\n",
              "      <td>206.018195</td>\n",
              "      <td>178.306508</td>\n",
              "      <td>27.711686</td>\n",
              "      <td>1</td>\n",
              "    </tr>\n",
              "    <tr>\n",
              "      <th>...</th>\n",
              "      <td>...</td>\n",
              "      <td>...</td>\n",
              "      <td>...</td>\n",
              "      <td>...</td>\n",
              "      <td>...</td>\n",
              "      <td>...</td>\n",
              "      <td>...</td>\n",
              "      <td>...</td>\n",
              "    </tr>\n",
              "    <tr>\n",
              "      <th>200157</th>\n",
              "      <td>0</td>\n",
              "      <td>1</td>\n",
              "      <td>0.000000</td>\n",
              "      <td>50.000000</td>\n",
              "      <td>50.000000</td>\n",
              "      <td>0.000000</td>\n",
              "      <td>50.000000</td>\n",
              "      <td>1</td>\n",
              "    </tr>\n",
              "    <tr>\n",
              "      <th>200158</th>\n",
              "      <td>0</td>\n",
              "      <td>0</td>\n",
              "      <td>299.564377</td>\n",
              "      <td>12.554453</td>\n",
              "      <td>312.118829</td>\n",
              "      <td>299.564377</td>\n",
              "      <td>12.554453</td>\n",
              "      <td>1</td>\n",
              "    </tr>\n",
              "    <tr>\n",
              "      <th>200159</th>\n",
              "      <td>0</td>\n",
              "      <td>1</td>\n",
              "      <td>0.000000</td>\n",
              "      <td>50.000000</td>\n",
              "      <td>50.000000</td>\n",
              "      <td>0.000000</td>\n",
              "      <td>50.000000</td>\n",
              "      <td>1</td>\n",
              "    </tr>\n",
              "    <tr>\n",
              "      <th>200160</th>\n",
              "      <td>1</td>\n",
              "      <td>0</td>\n",
              "      <td>246.366265</td>\n",
              "      <td>21.947676</td>\n",
              "      <td>268.313941</td>\n",
              "      <td>246.366265</td>\n",
              "      <td>10.973838</td>\n",
              "      <td>1</td>\n",
              "    </tr>\n",
              "    <tr>\n",
              "      <th>200161</th>\n",
              "      <td>0</td>\n",
              "      <td>1</td>\n",
              "      <td>0.000000</td>\n",
              "      <td>50.000000</td>\n",
              "      <td>50.000000</td>\n",
              "      <td>0.000000</td>\n",
              "      <td>50.000000</td>\n",
              "      <td>1</td>\n",
              "    </tr>\n",
              "  </tbody>\n",
              "</table>\n",
              "<p>200162 rows × 8 columns</p>\n",
              "</div>\n",
              "    <div class=\"colab-df-buttons\">\n",
              "\n",
              "  <div class=\"colab-df-container\">\n",
              "    <button class=\"colab-df-convert\" onclick=\"convertToInteractive('df-6dd0d47f-ef99-42f0-bfbd-b9e6c2d6372b')\"\n",
              "            title=\"Convert this dataframe to an interactive table.\"\n",
              "            style=\"display:none;\">\n",
              "\n",
              "  <svg xmlns=\"http://www.w3.org/2000/svg\" height=\"24px\" viewBox=\"0 -960 960 960\">\n",
              "    <path d=\"M120-120v-720h720v720H120Zm60-500h600v-160H180v160Zm220 220h160v-160H400v160Zm0 220h160v-160H400v160ZM180-400h160v-160H180v160Zm440 0h160v-160H620v160ZM180-180h160v-160H180v160Zm440 0h160v-160H620v160Z\"/>\n",
              "  </svg>\n",
              "    </button>\n",
              "\n",
              "  <style>\n",
              "    .colab-df-container {\n",
              "      display:flex;\n",
              "      gap: 12px;\n",
              "    }\n",
              "\n",
              "    .colab-df-convert {\n",
              "      background-color: #E8F0FE;\n",
              "      border: none;\n",
              "      border-radius: 50%;\n",
              "      cursor: pointer;\n",
              "      display: none;\n",
              "      fill: #1967D2;\n",
              "      height: 32px;\n",
              "      padding: 0 0 0 0;\n",
              "      width: 32px;\n",
              "    }\n",
              "\n",
              "    .colab-df-convert:hover {\n",
              "      background-color: #E2EBFA;\n",
              "      box-shadow: 0px 1px 2px rgba(60, 64, 67, 0.3), 0px 1px 3px 1px rgba(60, 64, 67, 0.15);\n",
              "      fill: #174EA6;\n",
              "    }\n",
              "\n",
              "    .colab-df-buttons div {\n",
              "      margin-bottom: 4px;\n",
              "    }\n",
              "\n",
              "    [theme=dark] .colab-df-convert {\n",
              "      background-color: #3B4455;\n",
              "      fill: #D2E3FC;\n",
              "    }\n",
              "\n",
              "    [theme=dark] .colab-df-convert:hover {\n",
              "      background-color: #434B5C;\n",
              "      box-shadow: 0px 1px 3px 1px rgba(0, 0, 0, 0.15);\n",
              "      filter: drop-shadow(0px 1px 2px rgba(0, 0, 0, 0.3));\n",
              "      fill: #FFFFFF;\n",
              "    }\n",
              "  </style>\n",
              "\n",
              "    <script>\n",
              "      const buttonEl =\n",
              "        document.querySelector('#df-6dd0d47f-ef99-42f0-bfbd-b9e6c2d6372b button.colab-df-convert');\n",
              "      buttonEl.style.display =\n",
              "        google.colab.kernel.accessAllowed ? 'block' : 'none';\n",
              "\n",
              "      async function convertToInteractive(key) {\n",
              "        const element = document.querySelector('#df-6dd0d47f-ef99-42f0-bfbd-b9e6c2d6372b');\n",
              "        const dataTable =\n",
              "          await google.colab.kernel.invokeFunction('convertToInteractive',\n",
              "                                                    [key], {});\n",
              "        if (!dataTable) return;\n",
              "\n",
              "        const docLinkHtml = 'Like what you see? Visit the ' +\n",
              "          '<a target=\"_blank\" href=https://colab.research.google.com/notebooks/data_table.ipynb>data table notebook</a>'\n",
              "          + ' to learn more about interactive tables.';\n",
              "        element.innerHTML = '';\n",
              "        dataTable['output_type'] = 'display_data';\n",
              "        await google.colab.output.renderOutput(dataTable, element);\n",
              "        const docLink = document.createElement('div');\n",
              "        docLink.innerHTML = docLinkHtml;\n",
              "        element.appendChild(docLink);\n",
              "      }\n",
              "    </script>\n",
              "  </div>\n",
              "\n",
              "\n",
              "<div id=\"df-a981e7fd-2e65-4bd5-8828-b341e475efab\">\n",
              "  <button class=\"colab-df-quickchart\" onclick=\"quickchart('df-a981e7fd-2e65-4bd5-8828-b341e475efab')\"\n",
              "            title=\"Suggest charts.\"\n",
              "            style=\"display:none;\">\n",
              "\n",
              "<svg xmlns=\"http://www.w3.org/2000/svg\" height=\"24px\"viewBox=\"0 0 24 24\"\n",
              "     width=\"24px\">\n",
              "    <g>\n",
              "        <path d=\"M19 3H5c-1.1 0-2 .9-2 2v14c0 1.1.9 2 2 2h14c1.1 0 2-.9 2-2V5c0-1.1-.9-2-2-2zM9 17H7v-7h2v7zm4 0h-2V7h2v10zm4 0h-2v-4h2v4z\"/>\n",
              "    </g>\n",
              "</svg>\n",
              "  </button>\n",
              "\n",
              "<style>\n",
              "  .colab-df-quickchart {\n",
              "    background-color: #E8F0FE;\n",
              "    border: none;\n",
              "    border-radius: 50%;\n",
              "    cursor: pointer;\n",
              "    display: none;\n",
              "    fill: #1967D2;\n",
              "    height: 32px;\n",
              "    padding: 0 0 0 0;\n",
              "    width: 32px;\n",
              "  }\n",
              "\n",
              "  .colab-df-quickchart:hover {\n",
              "    background-color: #E2EBFA;\n",
              "    box-shadow: 0px 1px 2px rgba(60, 64, 67, 0.3), 0px 1px 3px 1px rgba(60, 64, 67, 0.15);\n",
              "    fill: #174EA6;\n",
              "  }\n",
              "\n",
              "  [theme=dark] .colab-df-quickchart {\n",
              "    background-color: #3B4455;\n",
              "    fill: #D2E3FC;\n",
              "  }\n",
              "\n",
              "  [theme=dark] .colab-df-quickchart:hover {\n",
              "    background-color: #434B5C;\n",
              "    box-shadow: 0px 1px 3px 1px rgba(0, 0, 0, 0.15);\n",
              "    filter: drop-shadow(0px 1px 2px rgba(0, 0, 0, 0.3));\n",
              "    fill: #FFFFFF;\n",
              "  }\n",
              "</style>\n",
              "\n",
              "  <script>\n",
              "    async function quickchart(key) {\n",
              "      const charts = await google.colab.kernel.invokeFunction(\n",
              "          'suggestCharts', [key], {});\n",
              "    }\n",
              "    (() => {\n",
              "      let quickchartButtonEl =\n",
              "        document.querySelector('#df-a981e7fd-2e65-4bd5-8828-b341e475efab button');\n",
              "      quickchartButtonEl.style.display =\n",
              "        google.colab.kernel.accessAllowed ? 'block' : 'none';\n",
              "    })();\n",
              "  </script>\n",
              "</div>\n",
              "    </div>\n",
              "  </div>\n"
            ]
          },
          "metadata": {},
          "execution_count": 10
        }
      ],
      "source": [
        "\n",
        "df1=df_balanced\n",
        "df1"
      ],
      "id": "60e6a7b1"
    },
    {
      "cell_type": "code",
      "execution_count": null,
      "metadata": {
        "colab": {
          "base_uri": "https://localhost:8080/"
        },
        "id": "ebb97dfc",
        "outputId": "5a73525e-0279-4264-a5f5-d459458a1287"
      },
      "outputs": [
        {
          "output_type": "execute_result",
          "data": {
            "text/plain": [
              "100081"
            ]
          },
          "metadata": {},
          "execution_count": 11
        }
      ],
      "source": [
        "count=0\n",
        "for i in df_balanced[\"out_and_tx_malicious\"]:\n",
        "    if i==1:\n",
        "        count+=1\n",
        "\n",
        "count"
      ],
      "id": "ebb97dfc"
    },
    {
      "cell_type": "code",
      "execution_count": null,
      "metadata": {
        "id": "3fabb98d"
      },
      "outputs": [],
      "source": [
        "from sklearn.preprocessing import StandardScaler\n",
        "from sklearn.model_selection import train_test_split"
      ],
      "id": "3fabb98d"
    },
    {
      "cell_type": "code",
      "execution_count": null,
      "metadata": {
        "id": "80d6e9f0"
      },
      "outputs": [],
      "source": [
        "X=df1.drop([\"out_and_tx_malicious\"],axis=1)\n",
        "y=df1[\"out_and_tx_malicious\"]"
      ],
      "id": "80d6e9f0"
    },
    {
      "cell_type": "code",
      "execution_count": null,
      "metadata": {
        "id": "42e8ac52"
      },
      "outputs": [],
      "source": [
        "X_train,X_test,y_train,y_test = train_test_split(X,y,test_size=0.3,random_state=42)"
      ],
      "id": "42e8ac52"
    },
    {
      "cell_type": "code",
      "execution_count": null,
      "metadata": {
        "colab": {
          "base_uri": "https://localhost:8080/"
        },
        "id": "608a8668",
        "outputId": "37e71872-0b69-41e6-99a0-ae6755050320"
      },
      "outputs": [
        {
          "output_type": "execute_result",
          "data": {
            "text/plain": [
              "array([[-0.31625021, -0.1694594 , -0.23660417, ..., -0.2035638 ,\n",
              "        -0.07179803, -0.18283726],\n",
              "       [-0.23849132,  0.15806538, -0.23660292, ..., -0.23542695,\n",
              "        -0.07179593, -0.28442919],\n",
              "       [ 1.62772197, -0.1694594 , -0.17463793, ..., -0.17231876,\n",
              "        -0.06762974, -0.18382416],\n",
              "       ...,\n",
              "       [-0.23849132,  0.15806538, -0.23535269, ..., -0.23415366,\n",
              "        -0.06969344, -0.28341428],\n",
              "       [-0.23849132,  0.15806538, -0.22063526, ..., -0.21917084,\n",
              "        -0.04494346, -0.27147666],\n",
              "       [ 0.228062  ,  0.48559017, -0.2283194 , ..., -0.22699058,\n",
              "        -0.0698077 , -0.27994637]])"
            ]
          },
          "metadata": {},
          "execution_count": 172
        }
      ],
      "source": [
        "# scaler = StandardScaler()\n",
        "# X_train = scaler.fit_transform(X_train)\n",
        "# X_test = scaler.fit_transform(X_test)\n",
        "# X_test"
      ],
      "id": "608a8668"
    },
    {
      "cell_type": "code",
      "source": [
        "from sklearn.preprocessing import StandardScaler, MinMaxScaler\n",
        "\n",
        "# Assuming you have already fitted and transformed X_train using StandardScaler\n",
        "\n",
        "# Create a MinMaxScaler instance\n",
        "min_max_scaler = MinMaxScaler()\n",
        "\n",
        "# Transform X_test using the MinMaxScaler\n",
        "X_test = min_max_scaler.fit_transform(X_test)\n",
        "X_train = min_max_scaler.fit_transform(X_train)"
      ],
      "metadata": {
        "id": "CXej5mgaLJf7"
      },
      "id": "CXej5mgaLJf7",
      "execution_count": null,
      "outputs": []
    },
    {
      "cell_type": "code",
      "source": [
        "X_test"
      ],
      "metadata": {
        "colab": {
          "base_uri": "https://localhost:8080/"
        },
        "id": "vRgrp311Le-7",
        "outputId": "41397de1-35ed-4d61-fa07-ad88a2106661"
      },
      "id": "vRgrp311Le-7",
      "execution_count": null,
      "outputs": [
        {
          "output_type": "execute_result",
          "data": {
            "text/plain": [
              "array([[0.00000000e+00, 3.48432056e-03, 0.00000000e+00, ...,\n",
              "        4.77882305e-04, 0.00000000e+00, 1.91152922e-03],\n",
              "       [1.99600798e-03, 6.96864111e-03, 1.91152922e-08, ...,\n",
              "        1.43362780e-08, 1.91152922e-08, 9.55764611e-09],\n",
              "       [4.99001996e-02, 3.48432056e-03, 9.46480093e-04, ...,\n",
              "        9.46480093e-04, 3.78592037e-05, 1.89296019e-03],\n",
              "       ...,\n",
              "       [1.99600798e-03, 6.96864111e-03, 1.91152922e-05, ...,\n",
              "        1.91105132e-05, 1.91152922e-05, 1.91057346e-05],\n",
              "       [1.99600798e-03, 6.96864111e-03, 2.43911129e-04, ...,\n",
              "        2.43815552e-04, 2.43911129e-04, 2.43719976e-04],\n",
              "       [1.39720559e-02, 1.04529617e-02, 1.26542684e-04, ...,\n",
              "        1.26538861e-04, 1.80775263e-05, 8.43566919e-05]])"
            ]
          },
          "metadata": {},
          "execution_count": 16
        }
      ]
    },
    {
      "cell_type": "code",
      "execution_count": null,
      "metadata": {
        "colab": {
          "base_uri": "https://localhost:8080/"
        },
        "id": "4a0a3908",
        "outputId": "a516ef52-d6e6-435f-cac2-05b23f170242"
      },
      "outputs": [
        {
          "output_type": "execute_result",
          "data": {
            "text/plain": [
              "190528    1\n",
              "87429     1\n",
              "140008    0\n",
              "148284    1\n",
              "113475    1\n",
              "         ..\n",
              "119879    1\n",
              "103694    0\n",
              "131932    0\n",
              "146867    1\n",
              "121958    1\n",
              "Name: out_and_tx_malicious, Length: 140113, dtype: int64"
            ]
          },
          "metadata": {},
          "execution_count": 17
        }
      ],
      "source": [
        "y_train"
      ],
      "id": "4a0a3908"
    },
    {
      "cell_type": "code",
      "execution_count": null,
      "metadata": {
        "colab": {
          "base_uri": "https://localhost:8080/"
        },
        "id": "b1d7d0db",
        "outputId": "0707eb4d-7e2c-4583-9d85-31f4c7bbc051"
      },
      "outputs": [
        {
          "output_type": "execute_result",
          "data": {
            "text/plain": [
              "70145"
            ]
          },
          "metadata": {},
          "execution_count": 18
        }
      ],
      "source": [
        "count =0\n",
        "for i in y_train:\n",
        "    if i ==1:\n",
        "        count+=1\n",
        "count"
      ],
      "id": "b1d7d0db"
    },
    {
      "cell_type": "code",
      "execution_count": null,
      "metadata": {
        "colab": {
          "base_uri": "https://localhost:8080/"
        },
        "id": "73876de0",
        "outputId": "908427b0-679d-4afd-a0c8-a204525ee74f"
      },
      "outputs": [
        {
          "output_type": "execute_result",
          "data": {
            "text/plain": [
              "29936"
            ]
          },
          "metadata": {},
          "execution_count": 19
        }
      ],
      "source": [
        "count =0\n",
        "for i in y_test:\n",
        "    if i ==1:\n",
        "        count+=1\n",
        "count"
      ],
      "id": "73876de0"
    },
    {
      "cell_type": "markdown",
      "source": [
        "Data Analysis"
      ],
      "metadata": {
        "id": "bElxNBsimAtJ"
      },
      "id": "bElxNBsimAtJ"
    },
    {
      "cell_type": "code",
      "source": [
        "# Perform Factor Analysis\n",
        "from sklearn.decomposition import FactorAnalysis\n",
        "\n",
        "factor_analysis = FactorAnalysis(n_components=3, random_state=10)\n",
        "Xtrain_transformed = factor_analysis.fit_transform(X_train)"
      ],
      "metadata": {
        "id": "RORvF36Tl_jm"
      },
      "id": "RORvF36Tl_jm",
      "execution_count": null,
      "outputs": []
    },
    {
      "cell_type": "code",
      "source": [
        "# Get the column names for x-axis labels\n",
        "x_labels = list(X.columns)\n",
        "\n",
        "# Calculate eigenvalues and explained variance\n",
        "eigenvalues = factor_analysis.noise_variance_\n",
        "explained_variance = eigenvalues / np.sum(eigenvalues)\n",
        "cumulative_explained_variance = np.cumsum(explained_variance)\n",
        "\n",
        "# Plot Factor Analysis\n",
        "plt.figure(figsize=(8, 6))\n",
        "x = np.arange(len(x_labels))\n",
        "plt.bar(x, explained_variance, align='center', label='Individual')\n",
        "plt.plot(x, cumulative_explained_variance, '-o', color='r', label='Cumulative')\n",
        "plt.xticks(x, x_labels, rotation='vertical')\n",
        "plt.xlabel('Features')\n",
        "plt.ylabel('Explained Variance')\n",
        "plt.title('Factor Analysis - Explained Variance')\n",
        "plt.legend()\n",
        "plt.tight_layout()\n",
        "plt.show()"
      ],
      "metadata": {
        "colab": {
          "base_uri": "https://localhost:8080/",
          "height": 607
        },
        "id": "ZyYD_doSl_oJ",
        "outputId": "c6997930-d2b0-4a71-b3cd-9c7bcd21c4e6"
      },
      "id": "ZyYD_doSl_oJ",
      "execution_count": null,
      "outputs": [
        {
          "output_type": "display_data",
          "data": {
            "text/plain": [
              "<Figure size 800x600 with 1 Axes>"
            ],
            "image/png": "[encoded data removed]"
          },
          "metadata": {}
        }
      ]
    },
    {
      "cell_type": "markdown",
      "source": [
        "Heat Map"
      ],
      "metadata": {
        "id": "jHvnNmIomm8Y"
      },
      "id": "jHvnNmIomm8Y"
    },
    {
      "cell_type": "code",
      "source": [
        "import pandas as pd\n",
        "import seaborn as sns\n",
        "import matplotlib.pyplot as plt\n",
        "\n",
        "# Calculate the correlation matrix\n",
        "corr_matrix = df_balanced.corr()\n",
        "\n",
        "# Create a heatmap\n",
        "plt.figure(figsize=(10, 8))\n",
        "sns.heatmap(corr_matrix, annot=True, cmap='coolwarm')\n",
        "plt.title('Correlation Heatmap')\n",
        "plt.show()"
      ],
      "metadata": {
        "colab": {
          "base_uri": "https://localhost:8080/",
          "height": 834
        },
        "id": "IPy8Q7jrl_so",
        "outputId": "0f6c3b4e-ceaf-425a-9ade-e88b61a8bd50"
      },
      "id": "IPy8Q7jrl_so",
      "execution_count": null,
      "outputs": [
        {
          "output_type": "display_data",
          "data": {
            "text/plain": [
              "<Figure size 1000x800 with 2 Axes>"
            ],
            "image/png": "[encoded data removed]"
          },
          "metadata": {}
        }
      ]
    },
    {
      "cell_type": "code",
      "execution_count": null,
      "metadata": {
        "id": "6f7a92de"
      },
      "outputs": [],
      "source": [
        "from sklearn.ensemble import RandomForestClassifier"
      ],
      "id": "6f7a92de"
    },
    {
      "cell_type": "code",
      "execution_count": null,
      "metadata": {
        "colab": {
          "base_uri": "https://localhost:8080/",
          "height": 74
        },
        "id": "4da57797",
        "outputId": "0f5cb58f-ec3a-4190-9f7e-9b1a4ac19ca6"
      },
      "outputs": [
        {
          "output_type": "execute_result",
          "data": {
            "text/plain": [
              "RandomForestClassifier()"
            ],
            "text/html": [
              "<style>#sk-container-id-1 {color: black;background-color: white;}#sk-container-id-1 pre{padding: 0;}#sk-container-id-1 div.sk-toggleable {background-color: white;}#sk-container-id-1 label.sk-toggleable__label {cursor: pointer;display: block;width: 100%;margin-bottom: 0;padding: 0.3em;box-sizing: border-box;text-align: center;}#sk-container-id-1 label.sk-toggleable__label-arrow:before {content: \"▸\";float: left;margin-right: 0.25em;color: #696969;}#sk-container-id-1 label.sk-toggleable__label-arrow:hover:before {color: black;}#sk-container-id-1 div.sk-estimator:hover label.sk-toggleable__label-arrow:before {color: black;}#sk-container-id-1 div.sk-toggleable__content {max-height: 0;max-width: 0;overflow: hidden;text-align: left;background-color: #f0f8ff;}#sk-container-id-1 div.sk-toggleable__content pre {margin: 0.2em;color: black;border-radius: 0.25em;background-color: #f0f8ff;}#sk-container-id-1 input.sk-toggleable__control:checked~div.sk-toggleable__content {max-height: 200px;max-width: 100%;overflow: auto;}#sk-container-id-1 input.sk-toggleable__control:checked~label.sk-toggleable__label-arrow:before {content: \"▾\";}#sk-container-id-1 div.sk-estimator input.sk-toggleable__control:checked~label.sk-toggleable__label {background-color: #d4ebff;}#sk-container-id-1 div.sk-label input.sk-toggleable__control:checked~label.sk-toggleable__label {background-color: #d4ebff;}#sk-container-id-1 input.sk-hidden--visually {border: 0;clip: rect(1px 1px 1px 1px);clip: rect(1px, 1px, 1px, 1px);height: 1px;margin: -1px;overflow: hidden;padding: 0;position: absolute;width: 1px;}#sk-container-id-1 div.sk-estimator {font-family: monospace;background-color: #f0f8ff;border: 1px dotted black;border-radius: 0.25em;box-sizing: border-box;margin-bottom: 0.5em;}#sk-container-id-1 div.sk-estimator:hover {background-color: #d4ebff;}#sk-container-id-1 div.sk-parallel-item::after {content: \"\";width: 100%;border-bottom: 1px solid gray;flex-grow: 1;}#sk-container-id-1 div.sk-label:hover label.sk-toggleable__label {background-color: #d4ebff;}#sk-container-id-1 div.sk-serial::before {content: \"\";position: absolute;border-left: 1px solid gray;box-sizing: border-box;top: 0;bottom: 0;left: 50%;z-index: 0;}#sk-container-id-1 div.sk-serial {display: flex;flex-direction: column;align-items: center;background-color: white;padding-right: 0.2em;padding-left: 0.2em;position: relative;}#sk-container-id-1 div.sk-item {position: relative;z-index: 1;}#sk-container-id-1 div.sk-parallel {display: flex;align-items: stretch;justify-content: center;background-color: white;position: relative;}#sk-container-id-1 div.sk-item::before, #sk-container-id-1 div.sk-parallel-item::before {content: \"\";position: absolute;border-left: 1px solid gray;box-sizing: border-box;top: 0;bottom: 0;left: 50%;z-index: -1;}#sk-container-id-1 div.sk-parallel-item {display: flex;flex-direction: column;z-index: 1;position: relative;background-color: white;}#sk-container-id-1 div.sk-parallel-item:first-child::after {align-self: flex-end;width: 50%;}#sk-container-id-1 div.sk-parallel-item:last-child::after {align-self: flex-start;width: 50%;}#sk-container-id-1 div.sk-parallel-item:only-child::after {width: 0;}#sk-container-id-1 div.sk-dashed-wrapped {border: 1px dashed gray;margin: 0 0.4em 0.5em 0.4em;box-sizing: border-box;padding-bottom: 0.4em;background-color: white;}#sk-container-id-1 div.sk-label label {font-family: monospace;font-weight: bold;display: inline-block;line-height: 1.2em;}#sk-container-id-1 div.sk-label-container {text-align: center;}#sk-container-id-1 div.sk-container {/* jupyter's `normalize.less` sets `[hidden] { display: none; }` but bootstrap.min.css set `[hidden] { display: none !important; }` so we also need the `!important` here to be able to override the default hidden behavior on the sphinx rendered scikit-learn.org. See: https://github.com/scikit-learn/scikit-learn/issues/21755 */display: inline-block !important;position: relative;}#sk-container-id-1 div.sk-text-repr-fallback {display: none;}</style><div id=\"sk-container-id-1\" class=\"sk-top-container\"><div class=\"sk-text-repr-fallback\"><pre>RandomForestClassifier()</pre><b>In a Jupyter environment, please rerun this cell to show the HTML representation or trust the notebook. <br />On GitHub, the HTML representation is unable to render, please try loading this page with nbviewer.org.</b></div><div class=\"sk-container\" hidden><div class=\"sk-item\"><div class=\"sk-estimator sk-toggleable\"><input class=\"sk-toggleable__control sk-hidden--visually\" id=\"sk-estimator-id-1\" type=\"checkbox\" checked><label for=\"sk-estimator-id-1\" class=\"sk-toggleable__label sk-toggleable__label-arrow\">RandomForestClassifier</label><div class=\"sk-toggleable__content\"><pre>RandomForestClassifier()</pre></div></div></div></div></div>"
            ]
          },
          "metadata": {},
          "execution_count": 21
        }
      ],
      "source": [
        "model = RandomForestClassifier()\n",
        "model.fit(X_train, y_train)"
      ],
      "id": "4da57797"
    },
    {
      "cell_type": "code",
      "execution_count": null,
      "metadata": {
        "colab": {
          "base_uri": "https://localhost:8080/"
        },
        "id": "4ed77ca9",
        "outputId": "8e0be9a0-064f-4390-94e0-d169748a1560"
      },
      "outputs": [
        {
          "output_type": "execute_result",
          "data": {
            "text/plain": [
              "0.6100351379706573"
            ]
          },
          "metadata": {},
          "execution_count": 22
        }
      ],
      "source": [
        "model.score(X_test,y_test)"
      ],
      "id": "4ed77ca9"
    },
    {
      "cell_type": "code",
      "source": [
        "y_pred_prob_RF = model.predict(X_test)\n",
        "y_pred_RF = (y_pred_prob_RF > 0.5).astype(int)"
      ],
      "metadata": {
        "id": "e9_LcYfzcPOg"
      },
      "id": "e9_LcYfzcPOg",
      "execution_count": null,
      "outputs": []
    },
    {
      "cell_type": "code",
      "source": [
        "import numpy as np\n",
        "import seaborn as sns\n",
        "import matplotlib.pyplot as plt\n",
        "from sklearn.metrics import confusion_matrix\n",
        "from sklearn.metrics import precision_score, recall_score, f1_score , accuracy_score, classification_report\n",
        "\n",
        "\n",
        "# Create a sample confusion matrix\n",
        "\n",
        "cm = confusion_matrix(y_test, y_pred_RF)\n",
        "\n",
        "# Create a classification table using seaborn\n",
        "class_names = ['Negative', 'Positive']\n",
        "plt.figure(figsize=(8, 6))\n",
        "sns.heatmap(cm, annot=True, fmt=\"d\", cmap=\"Blues\", xticklabels=class_names, yticklabels=class_names)\n",
        "plt.xlabel(\"Predicted\")\n",
        "plt.ylabel(\"Actual\")\n",
        "plt.title(\"Classification Table\")\n",
        "plt.show()\n",
        "\n",
        "# Calculate precision, recall, and F1 score\n",
        "\n",
        "precision = precision_score(y_test, y_pred_RF)\n",
        "recall = recall_score(y_test, y_pred_RF)\n",
        "f1 = f1_score(y_test, y_pred_RF)\n",
        "accuracy = accuracy_score(y_test, y_pred_RF)\n",
        "\n",
        "\n",
        "print(\"Precision:\", precision)\n",
        "print(\"Recall:\", recall)\n",
        "print(\"F1 Score:\", f1)\n",
        "print(f\"Accuracy: {accuracy:.2f}\")"
      ],
      "metadata": {
        "colab": {
          "base_uri": "https://localhost:8080/",
          "height": 633
        },
        "id": "rufyVfARcZ_x",
        "outputId": "adef38fc-061c-4d27-fb04-ebb7ef45e0aa"
      },
      "id": "rufyVfARcZ_x",
      "execution_count": null,
      "outputs": [
        {
          "output_type": "display_data",
          "data": {
            "text/plain": [
              "<Figure size 800x600 with 2 Axes>"
            ],
            "image/png": "[encoded data removed]"
          },
          "metadata": {}
        },
        {
          "output_type": "stream",
          "name": "stdout",
          "text": [
            "Precision: 0.9462012320328542\n",
            "Recall: 0.23089257081774453\n",
            "F1 Score: 0.3712037807792487\n",
            "Accuracy: 0.61\n"
          ]
        }
      ]
    },
    {
      "cell_type": "code",
      "execution_count": null,
      "metadata": {
        "id": "21a28a9e"
      },
      "outputs": [],
      "source": [
        "from keras.models import Sequential\n",
        "from keras.layers import Dense\n",
        "from sklearn.metrics import accuracy_score, classification_report\n",
        "\n"
      ],
      "id": "21a28a9e"
    },
    {
      "cell_type": "code",
      "execution_count": null,
      "metadata": {
        "id": "b2a6abf6"
      },
      "outputs": [],
      "source": [
        "model = Sequential()\n",
        "model.add(Dense(64, input_dim=X_train.shape[1], activation='relu'))\n",
        "model.add(Dense(32, activation='relu'))\n",
        "model.add(Dense(1, activation='sigmoid'))\n",
        "\n",
        "# Compile the model\n",
        "model.compile(loss='binary_crossentropy', optimizer='adam', metrics=['accuracy'])"
      ],
      "id": "b2a6abf6"
    },
    {
      "cell_type": "code",
      "execution_count": null,
      "metadata": {
        "id": "636496e6",
        "colab": {
          "base_uri": "https://localhost:8080/"
        },
        "outputId": "c4937e9a-fbe9-4809-ad69-a579a4a886af"
      },
      "outputs": [
        {
          "output_type": "stream",
          "name": "stdout",
          "text": [
            "Epoch 1/5\n",
            "4379/4379 [==============================] - 24s 4ms/step - loss: 0.2606 - accuracy: 0.8961\n",
            "Epoch 2/5\n",
            "4379/4379 [==============================] - 16s 4ms/step - loss: 0.0764 - accuracy: 0.9823\n",
            "Epoch 3/5\n",
            "4379/4379 [==============================] - 16s 4ms/step - loss: 0.0559 - accuracy: 0.9854\n",
            "Epoch 4/5\n",
            "4379/4379 [==============================] - 16s 4ms/step - loss: 0.0465 - accuracy: 0.9873\n",
            "Epoch 5/5\n",
            "4379/4379 [==============================] - 17s 4ms/step - loss: 0.0427 - accuracy: 0.9889\n"
          ]
        },
        {
          "output_type": "execute_result",
          "data": {
            "text/plain": [
              "<keras.callbacks.History at 0x7f9ac9212350>"
            ]
          },
          "metadata": {},
          "execution_count": 29
        }
      ],
      "source": [
        "# Train the model\n",
        "model.fit(X_train, y_train, epochs=5, batch_size=32, verbose=1)"
      ],
      "id": "636496e6"
    },
    {
      "cell_type": "code",
      "execution_count": null,
      "metadata": {
        "id": "e9686043",
        "colab": {
          "base_uri": "https://localhost:8080/"
        },
        "outputId": "f081018d-f42a-4f9a-a4e7-79e5fbc48a95"
      },
      "outputs": [
        {
          "output_type": "stream",
          "name": "stdout",
          "text": [
            "1877/1877 [==============================] - 3s 1ms/step\n"
          ]
        }
      ],
      "source": [
        "y_pred_prob = model.predict(X_test)\n",
        "y_pred = (y_pred_prob > 0.5).astype(int)"
      ],
      "id": "e9686043"
    },
    {
      "cell_type": "code",
      "execution_count": null,
      "metadata": {
        "id": "52117014",
        "colab": {
          "base_uri": "https://localhost:8080/"
        },
        "outputId": "7efd19a8-ff74-4c12-d9a6-69615642d714"
      },
      "outputs": [
        {
          "output_type": "stream",
          "name": "stdout",
          "text": [
            "Accuracy: 0.98\n"
          ]
        }
      ],
      "source": [
        "accuracy = accuracy_score(y_test, y_pred)\n",
        "print(f\"Accuracy: {accuracy:.2f}\")"
      ],
      "id": "52117014"
    },
    {
      "cell_type": "code",
      "execution_count": null,
      "metadata": {
        "id": "4iEa1WVgaPzm"
      },
      "outputs": [],
      "source": [
        "# X_train.shape\n",
        "# X_train.shape[1]"
      ],
      "id": "4iEa1WVgaPzm"
    },
    {
      "cell_type": "code",
      "execution_count": null,
      "metadata": {
        "id": "H6fy38uZaHof",
        "colab": {
          "base_uri": "https://localhost:8080/",
          "height": 616
        },
        "outputId": "af4a1a96-55c8-4973-a156-560aeea03454"
      },
      "outputs": [
        {
          "output_type": "display_data",
          "data": {
            "text/plain": [
              "<Figure size 800x600 with 2 Axes>"
            ],
            "image/png": "[encoded data removed]"
          },
          "metadata": {}
        },
        {
          "output_type": "stream",
          "name": "stdout",
          "text": [
            "Precision: 0.9655763139181589\n",
            "Recall: 0.9978955104222341\n",
            "F1 Score: 0.9814699214771495\n"
          ]
        }
      ],
      "source": [
        "import numpy as np\n",
        "import seaborn as sns\n",
        "import matplotlib.pyplot as plt\n",
        "from sklearn.metrics import confusion_matrix\n",
        "from sklearn.metrics import precision_score, recall_score, f1_score\n",
        "\n",
        "# Create a sample confusion matrix\n",
        "\n",
        "cm = confusion_matrix(y_test, y_pred)\n",
        "\n",
        "# Create a classification table using seaborn\n",
        "class_names = ['Negative', 'Positive']\n",
        "plt.figure(figsize=(8, 6))\n",
        "sns.heatmap(cm, annot=True, fmt=\"d\", cmap=\"Blues\", xticklabels=class_names, yticklabels=class_names)\n",
        "plt.xlabel(\"Predicted\")\n",
        "plt.ylabel(\"Actual\")\n",
        "plt.title(\"Classification Table\")\n",
        "plt.show()\n",
        "\n",
        "# Calculate precision, recall, and F1 score\n",
        "\n",
        "precision = precision_score(y_test, y_pred)\n",
        "recall = recall_score(y_test, y_pred)\n",
        "f1 = f1_score(y_test, y_pred)\n",
        "\n",
        "\n",
        "print(\"Precision:\", precision)\n",
        "print(\"Recall:\", recall)\n",
        "print(\"F1 Score:\", f1)\n",
        "\n"
      ],
      "id": "H6fy38uZaHof"
    },
    {
      "cell_type": "markdown",
      "source": [
        "(LSTM,Attention,Dense)"
      ],
      "metadata": {
        "id": "OiSewHeTQfWF"
      },
      "id": "OiSewHeTQfWF"
    },
    {
      "cell_type": "code",
      "execution_count": null,
      "metadata": {
        "id": "BFQ53SmgaHqm",
        "colab": {
          "base_uri": "https://localhost:8080/",
          "height": 245
        },
        "outputId": "ce9bab7a-a289-4272-bc1c-e8f01393a8a0"
      },
      "outputs": [
        {
          "output_type": "error",
          "ename": "NameError",
          "evalue": "ignored",
          "traceback": [
            "\u001b[0;31m---------------------------------------------------------------------------\u001b[0m",
            "\u001b[0;31mNameError\u001b[0m                                 Traceback (most recent call last)",
            "\u001b[0;32m<ipython-input-2-47ff1062245a>\u001b[0m in \u001b[0;36m<cell line: 27>\u001b[0;34m()\u001b[0m\n\u001b[1;32m     25\u001b[0m \u001b[0;34m\u001b[0m\u001b[0m\n\u001b[1;32m     26\u001b[0m \u001b[0mmodel\u001b[0m \u001b[0;34m=\u001b[0m \u001b[0mSequential\u001b[0m\u001b[0;34m(\u001b[0m\u001b[0;34m)\u001b[0m\u001b[0;34m\u001b[0m\u001b[0;34m\u001b[0m\u001b[0m\n\u001b[0;32m---> 27\u001b[0;31m \u001b[0mmodel\u001b[0m\u001b[0;34m.\u001b[0m\u001b[0madd\u001b[0m\u001b[0;34m(\u001b[0m\u001b[0mLSTM\u001b[0m\u001b[0;34m(\u001b[0m\u001b[0;36m256\u001b[0m\u001b[0;34m,\u001b[0m \u001b[0minput_shape\u001b[0m\u001b[0;34m=\u001b[0m\u001b[0;34m(\u001b[0m\u001b[0mX_train\u001b[0m\u001b[0;34m.\u001b[0m\u001b[0mshape\u001b[0m\u001b[0;34m[\u001b[0m\u001b[0;36m1\u001b[0m\u001b[0;34m]\u001b[0m\u001b[0;34m,\u001b[0m\u001b[0;36m1\u001b[0m\u001b[0;34m)\u001b[0m\u001b[0;34m,\u001b[0m \u001b[0mactivation\u001b[0m\u001b[0;34m=\u001b[0m\u001b[0;34m'relu'\u001b[0m\u001b[0;34m,\u001b[0m \u001b[0mreturn_sequences\u001b[0m\u001b[0;34m=\u001b[0m\u001b[0;32mTrue\u001b[0m\u001b[0;34m)\u001b[0m\u001b[0;34m)\u001b[0m\u001b[0;34m\u001b[0m\u001b[0;34m\u001b[0m\u001b[0m\n\u001b[0m\u001b[1;32m     28\u001b[0m \u001b[0mmodel\u001b[0m\u001b[0;34m.\u001b[0m\u001b[0madd\u001b[0m\u001b[0;34m(\u001b[0m\u001b[0mLSTM\u001b[0m\u001b[0;34m(\u001b[0m\u001b[0;36m128\u001b[0m\u001b[0;34m,\u001b[0m \u001b[0mactivation\u001b[0m\u001b[0;34m=\u001b[0m\u001b[0;34m'relu'\u001b[0m\u001b[0;34m,\u001b[0m \u001b[0mreturn_sequences\u001b[0m\u001b[0;34m=\u001b[0m\u001b[0;32mTrue\u001b[0m\u001b[0;34m)\u001b[0m\u001b[0;34m)\u001b[0m\u001b[0;34m\u001b[0m\u001b[0;34m\u001b[0m\u001b[0m\n\u001b[1;32m     29\u001b[0m \u001b[0mmodel\u001b[0m\u001b[0;34m.\u001b[0m\u001b[0madd\u001b[0m\u001b[0;34m(\u001b[0m\u001b[0mAttentionLayer\u001b[0m\u001b[0;34m(\u001b[0m\u001b[0;34m)\u001b[0m\u001b[0;34m)\u001b[0m\u001b[0;34m\u001b[0m\u001b[0;34m\u001b[0m\u001b[0m\n",
            "\u001b[0;31mNameError\u001b[0m: name 'X_train' is not defined"
          ]
        }
      ],
      "source": [
        "from keras.models import Sequential\n",
        "from keras.layers import LSTM, Dense, Dropout, Input\n",
        "from keras.layers import Layer\n",
        "import keras.backend as K\n",
        "\n",
        "class AttentionLayer(Layer):\n",
        "    def __init__(self, **kwargs):\n",
        "        super(AttentionLayer, self).__init__(**kwargs)\n",
        "\n",
        "    def build(self, input_shape):\n",
        "        self.W = self.add_weight(name=\"att_weight\", shape=(input_shape[-1], 1),\n",
        "                                 initializer=\"normal\")\n",
        "        self.b = self.add_weight(name=\"att_bias\", shape=(input_shape[1], 1),\n",
        "                                 initializer=\"zeros\")\n",
        "        super(AttentionLayer, self).build(input_shape)\n",
        "\n",
        "    def call(self, x):\n",
        "        e = K.tanh(K.dot(x, self.W) + self.b)\n",
        "        a = K.softmax(e, axis=1)\n",
        "        output = x * a\n",
        "        return K.sum(output, axis=1)\n",
        "\n",
        "# Assuming you have your input sequences X_train with shape (num_samples, sequence_length, input_dim)\n",
        "# and corresponding labels y_train\n",
        "\n",
        "model = Sequential()\n",
        "model.add(LSTM(256, input_shape=(X_train.shape[1],1), activation='relu', return_sequences=True))\n",
        "model.add(LSTM(128, activation='relu', return_sequences=True))\n",
        "model.add(AttentionLayer())\n",
        "model.add(Dense(32, activation='relu'))\n",
        "model.add(Dense(1, activation='sigmoid'))\n",
        "\n",
        "# Compile the model\n",
        "model.compile(loss='binary_crossentropy', optimizer='adam', metrics=['accuracy'])\n"
      ],
      "id": "BFQ53SmgaHqm"
    },
    {
      "cell_type": "code",
      "execution_count": null,
      "metadata": {
        "id": "Yto_kzYDaHtJ",
        "colab": {
          "base_uri": "https://localhost:8080/"
        },
        "outputId": "5019e622-560e-484b-eb47-13bafdffd75d"
      },
      "outputs": [
        {
          "output_type": "stream",
          "name": "stdout",
          "text": [
            "Epoch 1/10\n",
            "1752/1752 [==============================] - 78s 22ms/step - loss: 0.6729 - accuracy: 0.5514 - val_loss: 0.6418 - val_accuracy: 0.5639\n",
            "Epoch 2/10\n",
            "1752/1752 [==============================] - 36s 21ms/step - loss: 0.2942 - accuracy: 0.8815 - val_loss: 0.1619 - val_accuracy: 0.9474\n",
            "Epoch 3/10\n",
            "1752/1752 [==============================] - 37s 21ms/step - loss: 0.1720 - accuracy: 0.9443 - val_loss: 0.1668 - val_accuracy: 0.9477\n",
            "Epoch 4/10\n",
            "1752/1752 [==============================] - 39s 22ms/step - loss: 0.1362 - accuracy: 0.9543 - val_loss: 0.0953 - val_accuracy: 0.9680\n",
            "Epoch 5/10\n",
            "1752/1752 [==============================] - 38s 22ms/step - loss: 0.1099 - accuracy: 0.9649 - val_loss: 0.0941 - val_accuracy: 0.9672\n",
            "Epoch 6/10\n",
            "1752/1752 [==============================] - 37s 21ms/step - loss: 0.1026 - accuracy: 0.9665 - val_loss: 0.0861 - val_accuracy: 0.9718\n",
            "Epoch 7/10\n",
            "1752/1752 [==============================] - 36s 21ms/step - loss: 0.1314 - accuracy: 0.9522 - val_loss: 0.1146 - val_accuracy: 0.9676\n",
            "Epoch 8/10\n",
            "1752/1752 [==============================] - 38s 21ms/step - loss: 0.1189 - accuracy: 0.9629 - val_loss: 0.0892 - val_accuracy: 0.9687\n",
            "Epoch 9/10\n",
            "1752/1752 [==============================] - 37s 21ms/step - loss: 0.0978 - accuracy: 0.9689 - val_loss: 0.0791 - val_accuracy: 0.9728\n",
            "Epoch 10/10\n",
            "1752/1752 [==============================] - 39s 22ms/step - loss: 0.0935 - accuracy: 0.9705 - val_loss: 0.0726 - val_accuracy: 0.9770\n"
          ]
        },
        {
          "output_type": "execute_result",
          "data": {
            "text/plain": [
              "<keras.callbacks.History at 0x7f9a52c195d0>"
            ]
          },
          "metadata": {},
          "execution_count": 41
        }
      ],
      "source": [
        "model.fit(X_train, y_train, epochs=10, batch_size=64, validation_split=0.2)"
      ],
      "id": "Yto_kzYDaHtJ"
    },
    {
      "cell_type": "code",
      "execution_count": null,
      "metadata": {
        "id": "YBU4JXOaaHwG",
        "colab": {
          "base_uri": "https://localhost:8080/"
        },
        "outputId": "1c510ecb-1460-476c-9ad0-ed113bc1fbbd"
      },
      "outputs": [
        {
          "output_type": "stream",
          "name": "stdout",
          "text": [
            "1877/1877 [==============================] - 6s 3ms/step\n"
          ]
        }
      ],
      "source": [
        "y_pred_prob_Ensemble = model.predict(X_test)\n",
        "y_pred_Ensemble = (y_pred_prob_Ensemble > 0.5).astype(int)"
      ],
      "id": "YBU4JXOaaHwG"
    },
    {
      "cell_type": "code",
      "execution_count": null,
      "metadata": {
        "id": "sRzTNb5BaHyw",
        "colab": {
          "base_uri": "https://localhost:8080/",
          "height": 633
        },
        "outputId": "fa0cc7c3-82c5-4b26-a65a-c4788b9ca29b"
      },
      "outputs": [
        {
          "output_type": "display_data",
          "data": {
            "text/plain": [
              "<Figure size 800x600 with 2 Axes>"
            ],
            "image/png": "[encoded data removed]"
          },
          "metadata": {}
        },
        {
          "output_type": "stream",
          "name": "stdout",
          "text": [
            "Precision: 0.9826601182720257\n",
            "Recall: 0.9824959914484233\n",
            "F1 Score: 0.9825780480064141\n",
            "Accuracy: 0.98\n"
          ]
        }
      ],
      "source": [
        "import numpy as np\n",
        "import seaborn as sns\n",
        "import matplotlib.pyplot as plt\n",
        "from sklearn.metrics import confusion_matrix\n",
        "from sklearn.metrics import precision_score, recall_score, f1_score\n",
        "from sklearn.metrics import accuracy_score, classification_report\n",
        "\n",
        "# Create a sample confusion matrix\n",
        "\n",
        "cm = confusion_matrix(y_test, y_pred_Ensemble)\n",
        "\n",
        "# Create a classification table using seaborn\n",
        "class_names = ['Negative', 'Positive']\n",
        "plt.figure(figsize=(8, 6))\n",
        "sns.heatmap(cm, annot=True, fmt=\"d\", cmap=\"Blues\", xticklabels=class_names, yticklabels=class_names)\n",
        "plt.xlabel(\"Predicted\")\n",
        "plt.ylabel(\"Actual\")\n",
        "plt.title(\"Classification Table\")\n",
        "plt.show()\n",
        "\n",
        "# Calculate precision, recall, and F1 score\n",
        "\n",
        "precision = precision_score(y_test, y_pred_Ensemble)\n",
        "recall = recall_score(y_test, y_pred_Ensemble)\n",
        "f1 = f1_score(y_test, y_pred_Ensemble)\n",
        "accuracy = accuracy_score(y_test, y_pred_Ensemble)\n",
        "\n",
        "\n",
        "print(\"Precision:\", precision)\n",
        "print(\"Recall:\", recall)\n",
        "print(\"F1 Score:\", f1)\n",
        "\n",
        "\n",
        "print(f\"Accuracy: {accuracy:.2f}\")"
      ],
      "id": "sRzTNb5BaHyw"
    },
    {
      "cell_type": "code",
      "execution_count": null,
      "metadata": {
        "id": "eMQFE5HJaH15"
      },
      "outputs": [],
      "source": [
        "import pandas as pd\n",
        "\n",
        "# Assuming you have a DataFrame named 'df_balanced' containing your data\n",
        "df_balanced.to_csv('balanced_dataset.csv', index=False)"
      ],
      "id": "eMQFE5HJaH15"
    },
    {
      "cell_type": "code",
      "source": [
        "import plotly.graph_objects as go\n",
        "\n",
        "categories = ['Accuracy', 'Precision', 'Recall']\n",
        "\n",
        "fig = go.Figure()\n",
        "\n",
        "model_names = ['RF', 'MLP', 'ATT LSTM', 'Ensemble']\n",
        "metric_values = [\n",
        "    [0.61, 0.84, 0.23],  # RF\n",
        "    [0.95, 0.96, 0.89],  # MLP\n",
        "    [0.97, 0.98, 0.98,],  # ATT.LSTM\n",
        "    [0.99, 0.98, 0.99]  # Ensemble\n",
        "]\n",
        "data_sizes = [50, 50, 50, 0]\n",
        "\n",
        "border_colors = ['rgb(31, 119, 180)', 'rgb(255, 127, 14)', 'rgb(44, 160, 44)', 'rgb(0, 0, 0)']\n",
        "\n",
        "for idx, model_name in enumerate(model_names):\n",
        "    # Complete the cycles by adding the first point at the end\n",
        "    r_values = metric_values[idx] + [metric_values[idx][0]]\n",
        "    theta_values = categories + [categories[0]]\n",
        "\n",
        "    fig.add_trace(go.Scatterpolar(\n",
        "        r=r_values,\n",
        "        theta=theta_values,\n",
        "        mode='lines+markers' if model_name != 'Data Size' else 'lines',  # Use markers for model data, lines only for Data Size\n",
        "        line=dict(color=border_colors[idx], width=2),\n",
        "        fill='none',  # Remove area fill for model data\n",
        "        name=model_name\n",
        "    ))\n",
        "\n",
        "# Add grid lines with customized colors\n",
        "for i, category in enumerate(categories):\n",
        "    fig.add_trace(go.Scatterpolar(\n",
        "        r=[1] * len(model_names),\n",
        "        theta=[category] * len(model_names),\n",
        "        mode='lines',\n",
        "        line=dict(color='rgba(0, 0, 0, 0.2)', width=1),  # Set grid line color\n",
        "        showlegend=False\n",
        "    ))\n",
        "\n",
        "# Add data size annotations\n",
        "for idx, model_name in enumerate(model_names):\n",
        "    fig.add_annotation(\n",
        "        xref=\"paper\",\n",
        "        yref=\"paper\",\n",
        "        x=1.1,\n",
        "        y=(idx + 1) / len(model_names),\n",
        "        text=f\"{model_name}\",\n",
        "        showarrow=False\n",
        "    )\n",
        "    if model_name == 'Data Size':\n",
        "        fig.add_annotation(\n",
        "            xref=\"paper\",\n",
        "            yref=\"paper\",\n",
        "            x=1.2,\n",
        "            y=(idx + 1) / len(model_names),\n",
        "            text=f\"Data Size: {data_sizes[idx]}\",\n",
        "            showarrow=False\n",
        "        )\n",
        "\n",
        "# Add custom tick labels using annotations\n",
        "for idx, tick_label in enumerate(['75%', '50%', '25%', '0%']):\n",
        "    fig.add_annotation(\n",
        "        x=0.5,\n",
        "        y=1.05 - (idx * 0.25),\n",
        "        text=tick_label,\n",
        "        xref=\"paper\",\n",
        "        yref=\"paper\",\n",
        "        showarrow=False,\n",
        "    )\n",
        "\n",
        "    fig.add_annotation(\n",
        "        x=1.05 - (idx * 0.25),\n",
        "        y=0.5,\n",
        "        text=tick_label,\n",
        "        xref=\"paper\",\n",
        "        yref=\"paper\",\n",
        "        showarrow=False,\n",
        "    )\n",
        "\n",
        "    fig.add_annotation(\n",
        "        x=0.5,\n",
        "        y=-0.05 + (idx * 0.25),\n",
        "        text=tick_label,\n",
        "        xref=\"paper\",\n",
        "        yref=\"paper\",\n",
        "        showarrow=False,\n",
        "    )\n",
        "\n",
        "    fig.add_annotation(\n",
        "        x=-0.05 + (idx * 0.25),\n",
        "        y=0.5,\n",
        "        text=tick_label,\n",
        "        xref=\"paper\",\n",
        "        yref=\"paper\",\n",
        "        showarrow=False,\n",
        "    )\n",
        "\n",
        "fig.update_layout(\n",
        "    polar=dict(\n",
        "        radialaxis=dict(\n",
        "            visible=True,\n",
        "            range=[0, 1],  # Set the range according to your data\n",
        "        ),\n",
        "        angularaxis=dict(\n",
        "            tickvals=list(range(len(categories))),\n",
        "            ticktext=categories,\n",
        "            rotation=90,  # Rotate the categories for better visibility\n",
        "            showline=True,  # Show angular axis line\n",
        "            showticklabels=False,  # Hide tick labels on angular axis\n",
        "        )\n",
        "    ),\n",
        "    showlegend=True,\n",
        "    title=\"Classification Scores\",\n",
        "    annotations=[\n",
        "        dict(\n",
        "            x=1.3,\n",
        "            y=1,\n",
        "            xref=\"paper\",\n",
        "            yref=\"paper\",\n",
        "            text=\"Model Info\",\n",
        "            showarrow=False\n",
        "        )\n",
        "    ],\n",
        "    paper_bgcolor='rgba(0,0,0,0)',\n",
        "    plot_bgcolor='rgba(0,0,0,0)'\n",
        ")\n",
        "\n",
        "fig.show()"
      ],
      "metadata": {
        "id": "s5c_EniQQ5EC",
        "colab": {
          "base_uri": "https://localhost:8080/",
          "height": 542
        },
        "outputId": "19c5080b-a5c1-461d-b4d5-6fe51f883c63"
      },
      "id": "s5c_EniQQ5EC",
      "execution_count": null,
      "outputs": [
        {
          "output_type": "display_data",
          "data": {
            "text/html": [
              "<html>\n",
              "<head><meta charset=\"utf-8\" /></head>\n",
              "<body>\n",
              "    <div>            <script src=\"https://cdnjs.cloudflare.com/ajax/libs/mathjax/2.7.5/MathJax.js?config=TeX-AMS-MML_SVG\"></script><script type=\"text/javascript\">if (window.MathJax && window.MathJax.Hub && window.MathJax.Hub.Config) {window.MathJax.Hub.Config({SVG: {font: \"STIX-Web\"}});}</script>                <script type=\"text/javascript\">window.PlotlyConfig = {MathJaxConfig: 'local'};</script>\n",
              "        <script charset=\"utf-8\" src=\"https://cdn.plot.ly/plotly-2.24.1.min.js\"></script>                <div id=\"28af01d7-61c0-430e-8bba-ae8c5833b1fc\" class=\"plotly-graph-div\" style=\"height:525px; width:100%;\"></div>            <script type=\"text/javascript\">                                    window.PLOTLYENV=window.PLOTLYENV || {};                                    if (document.getElementById(\"28af01d7-61c0-430e-8bba-ae8c5833b1fc\")) {                    Plotly.newPlot(                        \"28af01d7-61c0-430e-8bba-ae8c5833b1fc\",                        [{\"fill\":\"none\",\"line\":{\"color\":\"rgb(31, 119, 180)\",\"width\":2},\"mode\":\"lines+markers\",\"name\":\"RF\",\"r\":[0.61,0.84,0.23,0.61],\"theta\":[\"Accuracy\",\"Precision\",\"Recall\",\"Accuracy\"],\"type\":\"scatterpolar\"},{\"fill\":\"none\",\"line\":{\"color\":\"rgb(255, 127, 14)\",\"width\":2},\"mode\":\"lines+markers\",\"name\":\"MLP\",\"r\":[0.95,0.96,0.89,0.95],\"theta\":[\"Accuracy\",\"Precision\",\"Recall\",\"Accuracy\"],\"type\":\"scatterpolar\"},{\"fill\":\"none\",\"line\":{\"color\":\"rgb(44, 160, 44)\",\"width\":2},\"mode\":\"lines+markers\",\"name\":\"ATT LSTM\",\"r\":[0.97,0.98,0.98,0.97],\"theta\":[\"Accuracy\",\"Precision\",\"Recall\",\"Accuracy\"],\"type\":\"scatterpolar\"},{\"fill\":\"none\",\"line\":{\"color\":\"rgb(0, 0, 0)\",\"width\":2},\"mode\":\"lines+markers\",\"name\":\"Ensemble\",\"r\":[0.99,0.98,0.99,0.99],\"theta\":[\"Accuracy\",\"Precision\",\"Recall\",\"Accuracy\"],\"type\":\"scatterpolar\"},{\"line\":{\"color\":\"rgba(0, 0, 0, 0.2)\",\"width\":1},\"mode\":\"lines\",\"r\":[1,1,1,1],\"showlegend\":false,\"theta\":[\"Accuracy\",\"Accuracy\",\"Accuracy\",\"Accuracy\"],\"type\":\"scatterpolar\"},{\"line\":{\"color\":\"rgba(0, 0, 0, 0.2)\",\"width\":1},\"mode\":\"lines\",\"r\":[1,1,1,1],\"showlegend\":false,\"theta\":[\"Precision\",\"Precision\",\"Precision\",\"Precision\"],\"type\":\"scatterpolar\"},{\"line\":{\"color\":\"rgba(0, 0, 0, 0.2)\",\"width\":1},\"mode\":\"lines\",\"r\":[1,1,1,1],\"showlegend\":false,\"theta\":[\"Recall\",\"Recall\",\"Recall\",\"Recall\"],\"type\":\"scatterpolar\"}],                        {\"template\":{\"data\":{\"histogram2dcontour\":[{\"type\":\"histogram2dcontour\",\"colorbar\":{\"outlinewidth\":0,\"ticks\":\"\"},\"colorscale\":[[0.0,\"#0d0887\"],[0.1111111111111111,\"#46039f\"],[0.2222222222222222,\"#7201a8\"],[0.3333333333333333,\"#9c179e\"],[0.4444444444444444,\"#bd3786\"],[0.5555555555555556,\"#d8576b\"],[0.6666666666666666,\"#ed7953\"],[0.7777777777777778,\"#fb9f3a\"],[0.8888888888888888,\"#fdca26\"],[1.0,\"#f0f921\"]]}],\"choropleth\":[{\"type\":\"choropleth\",\"colorbar\":{\"outlinewidth\":0,\"ticks\":\"\"}}],\"histogram2d\":[{\"type\":\"histogram2d\",\"colorbar\":{\"outlinewidth\":0,\"ticks\":\"\"},\"colorscale\":[[0.0,\"#0d0887\"],[0.1111111111111111,\"#46039f\"],[0.2222222222222222,\"#7201a8\"],[0.3333333333333333,\"#9c179e\"],[0.4444444444444444,\"#bd3786\"],[0.5555555555555556,\"#d8576b\"],[0.6666666666666666,\"#ed7953\"],[0.7777777777777778,\"#fb9f3a\"],[0.8888888888888888,\"#fdca26\"],[1.0,\"#f0f921\"]]}],\"heatmap\":[{\"type\":\"heatmap\",\"colorbar\":{\"outlinewidth\":0,\"ticks\":\"\"},\"colorscale\":[[0.0,\"#0d0887\"],[0.1111111111111111,\"#46039f\"],[0.2222222222222222,\"#7201a8\"],[0.3333333333333333,\"#9c179e\"],[0.4444444444444444,\"#bd3786\"],[0.5555555555555556,\"#d8576b\"],[0.6666666666666666,\"#ed7953\"],[0.7777777777777778,\"#fb9f3a\"],[0.8888888888888888,\"#fdca26\"],[1.0,\"#f0f921\"]]}],\"heatmapgl\":[{\"type\":\"heatmapgl\",\"colorbar\":{\"outlinewidth\":0,\"ticks\":\"\"},\"colorscale\":[[0.0,\"#0d0887\"],[0.1111111111111111,\"#46039f\"],[0.2222222222222222,\"#7201a8\"],[0.3333333333333333,\"#9c179e\"],[0.4444444444444444,\"#bd3786\"],[0.5555555555555556,\"#d8576b\"],[0.6666666666666666,\"#ed7953\"],[0.7777777777777778,\"#fb9f3a\"],[0.8888888888888888,\"#fdca26\"],[1.0,\"#f0f921\"]]}],\"contourcarpet\":[{\"type\":\"contourcarpet\",\"colorbar\":{\"outlinewidth\":0,\"ticks\":\"\"}}],\"contour\":[{\"type\":\"contour\",\"colorbar\":{\"outlinewidth\":0,\"ticks\":\"\"},\"colorscale\":[[0.0,\"#0d0887\"],[0.1111111111111111,\"#46039f\"],[0.2222222222222222,\"#7201a8\"],[0.3333333333333333,\"#9c179e\"],[0.4444444444444444,\"#bd3786\"],[0.5555555555555556,\"#d8576b\"],[0.6666666666666666,\"#ed7953\"],[0.7777777777777778,\"#fb9f3a\"],[0.8888888888888888,\"#fdca26\"],[1.0,\"#f0f921\"]]}],\"surface\":[{\"type\":\"surface\",\"colorbar\":{\"outlinewidth\":0,\"ticks\":\"\"},\"colorscale\":[[0.0,\"#0d0887\"],[0.1111111111111111,\"#46039f\"],[0.2222222222222222,\"#7201a8\"],[0.3333333333333333,\"#9c179e\"],[0.4444444444444444,\"#bd3786\"],[0.5555555555555556,\"#d8576b\"],[0.6666666666666666,\"#ed7953\"],[0.7777777777777778,\"#fb9f3a\"],[0.8888888888888888,\"#fdca26\"],[1.0,\"#f0f921\"]]}],\"mesh3d\":[{\"type\":\"mesh3d\",\"colorbar\":{\"outlinewidth\":0,\"ticks\":\"\"}}],\"scatter\":[{\"fillpattern\":{\"fillmode\":\"overlay\",\"size\":10,\"solidity\":0.2},\"type\":\"scatter\"}],\"parcoords\":[{\"type\":\"parcoords\",\"line\":{\"colorbar\":{\"outlinewidth\":0,\"ticks\":\"\"}}}],\"scatterpolargl\":[{\"type\":\"scatterpolargl\",\"marker\":{\"colorbar\":{\"outlinewidth\":0,\"ticks\":\"\"}}}],\"bar\":[{\"error_x\":{\"color\":\"#2a3f5f\"},\"error_y\":{\"color\":\"#2a3f5f\"},\"marker\":{\"line\":{\"color\":\"#E5ECF6\",\"width\":0.5},\"pattern\":{\"fillmode\":\"overlay\",\"size\":10,\"solidity\":0.2}},\"type\":\"bar\"}],\"scattergeo\":[{\"type\":\"scattergeo\",\"marker\":{\"colorbar\":{\"outlinewidth\":0,\"ticks\":\"\"}}}],\"scatterpolar\":[{\"type\":\"scatterpolar\",\"marker\":{\"colorbar\":{\"outlinewidth\":0,\"ticks\":\"\"}}}],\"histogram\":[{\"marker\":{\"pattern\":{\"fillmode\":\"overlay\",\"size\":10,\"solidity\":0.2}},\"type\":\"histogram\"}],\"scattergl\":[{\"type\":\"scattergl\",\"marker\":{\"colorbar\":{\"outlinewidth\":0,\"ticks\":\"\"}}}],\"scatter3d\":[{\"type\":\"scatter3d\",\"line\":{\"colorbar\":{\"outlinewidth\":0,\"ticks\":\"\"}},\"marker\":{\"colorbar\":{\"outlinewidth\":0,\"ticks\":\"\"}}}],\"scattermapbox\":[{\"type\":\"scattermapbox\",\"marker\":{\"colorbar\":{\"outlinewidth\":0,\"ticks\":\"\"}}}],\"scatterternary\":[{\"type\":\"scatterternary\",\"marker\":{\"colorbar\":{\"outlinewidth\":0,\"ticks\":\"\"}}}],\"scattercarpet\":[{\"type\":\"scattercarpet\",\"marker\":{\"colorbar\":{\"outlinewidth\":0,\"ticks\":\"\"}}}],\"carpet\":[{\"aaxis\":{\"endlinecolor\":\"#2a3f5f\",\"gridcolor\":\"white\",\"linecolor\":\"white\",\"minorgridcolor\":\"white\",\"startlinecolor\":\"#2a3f5f\"},\"baxis\":{\"endlinecolor\":\"#2a3f5f\",\"gridcolor\":\"white\",\"linecolor\":\"white\",\"minorgridcolor\":\"white\",\"startlinecolor\":\"#2a3f5f\"},\"type\":\"carpet\"}],\"table\":[{\"cells\":{\"fill\":{\"color\":\"#EBF0F8\"},\"line\":{\"color\":\"white\"}},\"header\":{\"fill\":{\"color\":\"#C8D4E3\"},\"line\":{\"color\":\"white\"}},\"type\":\"table\"}],\"barpolar\":[{\"marker\":{\"line\":{\"color\":\"#E5ECF6\",\"width\":0.5},\"pattern\":{\"fillmode\":\"overlay\",\"size\":10,\"solidity\":0.2}},\"type\":\"barpolar\"}],\"pie\":[{\"automargin\":true,\"type\":\"pie\"}]},\"layout\":{\"autotypenumbers\":\"strict\",\"colorway\":[\"#636efa\",\"#EF553B\",\"#00cc96\",\"#ab63fa\",\"#FFA15A\",\"#19d3f3\",\"#FF6692\",\"#B6E880\",\"#FF97FF\",\"#FECB52\"],\"font\":{\"color\":\"#2a3f5f\"},\"hovermode\":\"closest\",\"hoverlabel\":{\"align\":\"left\"},\"paper_bgcolor\":\"white\",\"plot_bgcolor\":\"#E5ECF6\",\"polar\":{\"bgcolor\":\"#E5ECF6\",\"angularaxis\":{\"gridcolor\":\"white\",\"linecolor\":\"white\",\"ticks\":\"\"},\"radialaxis\":{\"gridcolor\":\"white\",\"linecolor\":\"white\",\"ticks\":\"\"}},\"ternary\":{\"bgcolor\":\"#E5ECF6\",\"aaxis\":{\"gridcolor\":\"white\",\"linecolor\":\"white\",\"ticks\":\"\"},\"baxis\":{\"gridcolor\":\"white\",\"linecolor\":\"white\",\"ticks\":\"\"},\"caxis\":{\"gridcolor\":\"white\",\"linecolor\":\"white\",\"ticks\":\"\"}},\"coloraxis\":{\"colorbar\":{\"outlinewidth\":0,\"ticks\":\"\"}},\"colorscale\":{\"sequential\":[[0.0,\"#0d0887\"],[0.1111111111111111,\"#46039f\"],[0.2222222222222222,\"#7201a8\"],[0.3333333333333333,\"#9c179e\"],[0.4444444444444444,\"#bd3786\"],[0.5555555555555556,\"#d8576b\"],[0.6666666666666666,\"#ed7953\"],[0.7777777777777778,\"#fb9f3a\"],[0.8888888888888888,\"#fdca26\"],[1.0,\"#f0f921\"]],\"sequentialminus\":[[0.0,\"#0d0887\"],[0.1111111111111111,\"#46039f\"],[0.2222222222222222,\"#7201a8\"],[0.3333333333333333,\"#9c179e\"],[0.4444444444444444,\"#bd3786\"],[0.5555555555555556,\"#d8576b\"],[0.6666666666666666,\"#ed7953\"],[0.7777777777777778,\"#fb9f3a\"],[0.8888888888888888,\"#fdca26\"],[1.0,\"#f0f921\"]],\"diverging\":[[0,\"#8e0152\"],[0.1,\"#c51b7d\"],[0.2,\"#de77ae\"],[0.3,\"#f1b6da\"],[0.4,\"#fde0ef\"],[0.5,\"#f7f7f7\"],[0.6,\"#e6f5d0\"],[0.7,\"#b8e186\"],[0.8,\"#7fbc41\"],[0.9,\"#4d9221\"],[1,\"#276419\"]]},\"xaxis\":{\"gridcolor\":\"white\",\"linecolor\":\"white\",\"ticks\":\"\",\"title\":{\"standoff\":15},\"zerolinecolor\":\"white\",\"automargin\":true,\"zerolinewidth\":2},\"yaxis\":{\"gridcolor\":\"white\",\"linecolor\":\"white\",\"ticks\":\"\",\"title\":{\"standoff\":15},\"zerolinecolor\":\"white\",\"automargin\":true,\"zerolinewidth\":2},\"scene\":{\"xaxis\":{\"backgroundcolor\":\"#E5ECF6\",\"gridcolor\":\"white\",\"linecolor\":\"white\",\"showbackground\":true,\"ticks\":\"\",\"zerolinecolor\":\"white\",\"gridwidth\":2},\"yaxis\":{\"backgroundcolor\":\"#E5ECF6\",\"gridcolor\":\"white\",\"linecolor\":\"white\",\"showbackground\":true,\"ticks\":\"\",\"zerolinecolor\":\"white\",\"gridwidth\":2},\"zaxis\":{\"backgroundcolor\":\"#E5ECF6\",\"gridcolor\":\"white\",\"linecolor\":\"white\",\"showbackground\":true,\"ticks\":\"\",\"zerolinecolor\":\"white\",\"gridwidth\":2}},\"shapedefaults\":{\"line\":{\"color\":\"#2a3f5f\"}},\"annotationdefaults\":{\"arrowcolor\":\"#2a3f5f\",\"arrowhead\":0,\"arrowwidth\":1},\"geo\":{\"bgcolor\":\"white\",\"landcolor\":\"#E5ECF6\",\"subunitcolor\":\"white\",\"showland\":true,\"showlakes\":true,\"lakecolor\":\"white\"},\"title\":{\"x\":0.05},\"mapbox\":{\"style\":\"light\"}}},\"annotations\":[{\"showarrow\":false,\"text\":\"Model Info\",\"x\":1.3,\"xref\":\"paper\",\"y\":1,\"yref\":\"paper\"},{\"showarrow\":false,\"text\":\"Model Info\",\"x\":1.3,\"xref\":\"paper\",\"y\":1,\"yref\":\"paper\"},{\"showarrow\":false,\"text\":\"Model Info\",\"x\":1.3,\"xref\":\"paper\",\"y\":1,\"yref\":\"paper\"},{\"showarrow\":false,\"text\":\"Model Info\",\"x\":1.3,\"xref\":\"paper\",\"y\":1.0,\"yref\":\"paper\"},{\"showarrow\":false,\"text\":\"Model Info\",\"x\":1.3,\"xref\":\"paper\",\"y\":1,\"yref\":\"paper\"},{\"showarrow\":false,\"text\":\"Model Info\",\"x\":1.3,\"xref\":\"paper\",\"y\":1,\"yref\":\"paper\"},{\"showarrow\":false,\"text\":\"Model Info\",\"x\":1.3,\"xref\":\"paper\",\"y\":1,\"yref\":\"paper\"},{\"showarrow\":false,\"text\":\"Model Info\",\"x\":1.3,\"xref\":\"paper\",\"y\":1,\"yref\":\"paper\"},{\"showarrow\":false,\"text\":\"Model Info\",\"x\":1.3,\"xref\":\"paper\",\"y\":1,\"yref\":\"paper\"},{\"showarrow\":false,\"text\":\"Model Info\",\"x\":1.3,\"xref\":\"paper\",\"y\":1,\"yref\":\"paper\"},{\"showarrow\":false,\"text\":\"Model Info\",\"x\":1.3,\"xref\":\"paper\",\"y\":1,\"yref\":\"paper\"},{\"showarrow\":false,\"text\":\"Model Info\",\"x\":1.3,\"xref\":\"paper\",\"y\":1,\"yref\":\"paper\"},{\"showarrow\":false,\"text\":\"Model Info\",\"x\":1.3,\"xref\":\"paper\",\"y\":1,\"yref\":\"paper\"},{\"showarrow\":false,\"text\":\"Model Info\",\"x\":1.3,\"xref\":\"paper\",\"y\":1,\"yref\":\"paper\"},{\"showarrow\":false,\"text\":\"Model Info\",\"x\":1.3,\"xref\":\"paper\",\"y\":1,\"yref\":\"paper\"},{\"showarrow\":false,\"text\":\"Model Info\",\"x\":1.3,\"xref\":\"paper\",\"y\":1,\"yref\":\"paper\"},{\"showarrow\":false,\"text\":\"Model Info\",\"x\":1.3,\"xref\":\"paper\",\"y\":1,\"yref\":\"paper\"},{\"showarrow\":false,\"text\":\"Model Info\",\"x\":1.3,\"xref\":\"paper\",\"y\":1,\"yref\":\"paper\"},{\"showarrow\":false,\"text\":\"Model Info\",\"x\":1.3,\"xref\":\"paper\",\"y\":1,\"yref\":\"paper\"},{\"showarrow\":false,\"text\":\"Model Info\",\"x\":1.3,\"xref\":\"paper\",\"y\":1,\"yref\":\"paper\"}],\"polar\":{\"radialaxis\":{\"visible\":true,\"range\":[0,1]},\"angularaxis\":{\"tickvals\":[0,1,2],\"ticktext\":[\"Accuracy\",\"Precision\",\"Recall\"],\"rotation\":90,\"showline\":true,\"showticklabels\":false}},\"showlegend\":true,\"title\":{\"text\":\"Classification Scores\"},\"paper_bgcolor\":\"rgba(0,0,0,0)\",\"plot_bgcolor\":\"rgba(0,0,0,0)\"},                        {\"responsive\": true}                    ).then(function(){\n",
              "                            \n",
              "var gd = document.getElementById('28af01d7-61c0-430e-8bba-ae8c5833b1fc');\n",
              "var x = new MutationObserver(function (mutations, observer) {{\n",
              "        var display = window.getComputedStyle(gd).display;\n",
              "        if (!display || display === 'none') {{\n",
              "            console.log([gd, 'removed!']);\n",
              "            Plotly.purge(gd);\n",
              "            observer.disconnect();\n",
              "        }}\n",
              "}});\n",
              "\n",
              "// Listen for the removal of the full notebook cells\n",
              "var notebookContainer = gd.closest('#notebook-container');\n",
              "if (notebookContainer) {{\n",
              "    x.observe(notebookContainer, {childList: true});\n",
              "}}\n",
              "\n",
              "// Listen for the clearing of the current output cell\n",
              "var outputEl = gd.closest('.output');\n",
              "if (outputEl) {{\n",
              "    x.observe(outputEl, {childList: true});\n",
              "}}\n",
              "\n",
              "                        })                };                            </script>        </div>\n",
              "</body>\n",
              "</html>"
            ]
          },
          "metadata": {}
        }
      ]
    },
    {
      "cell_type": "code",
      "source": [],
      "metadata": {
        "id": "PS6PkfdzQ5Jx"
      },
      "id": "PS6PkfdzQ5Jx",
      "execution_count": null,
      "outputs": []
    },
    {
      "cell_type": "code",
      "source": [],
      "metadata": {
        "id": "azRGs9gMQ5M4"
      },
      "id": "azRGs9gMQ5M4",
      "execution_count": null,
      "outputs": []
    },
    {
      "cell_type": "code",
      "source": [],
      "metadata": {
        "id": "sp7rq5xcQ5Pp"
      },
      "id": "sp7rq5xcQ5Pp",
      "execution_count": null,
      "outputs": []
    },
    {
      "cell_type": "code",
      "source": [],
      "metadata": {
        "id": "cLNjRxCZQ5Se"
      },
      "id": "cLNjRxCZQ5Se",
      "execution_count": null,
      "outputs": []
    },
    {
      "cell_type": "code",
      "source": [],
      "metadata": {
        "id": "1XrzOC7ZQ5VT"
      },
      "id": "1XrzOC7ZQ5VT",
      "execution_count": null,
      "outputs": []
    },
    {
      "cell_type": "code",
      "source": [],
      "metadata": {
        "id": "lCR05S-2Q5X7"
      },
      "id": "lCR05S-2Q5X7",
      "execution_count": null,
      "outputs": []
    },
    {
      "cell_type": "code",
      "source": [],
      "metadata": {
        "id": "-mhGTSRtQ5bi"
      },
      "id": "-mhGTSRtQ5bi",
      "execution_count": null,
      "outputs": []
    }
  ],
  "metadata": {
    "accelerator": "GPU",
    "colab": {
      "provenance": [],
      "include_colab_link": true
    },
    "kernelspec": {
      "display_name": "Python 3",
      "name": "python3"
    },
    "language_info": {
      "codemirror_mode": {
        "name": "ipython",
        "version": 3
      },
      "file_extension": ".py",
      "mimetype": "text/x-python",
      "name": "python",
      "nbconvert_exporter": "python",
      "pygments_lexer": "ipython3",
      "version": "3.9.13"
    }
  },
  "nbformat": 4,
  "nbformat_minor": 5
}